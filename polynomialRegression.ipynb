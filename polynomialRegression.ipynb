{
  "nbformat": 4,
  "nbformat_minor": 0,
  "metadata": {
    "colab": {
      "name": "polynomialRegression.ipynb",
      "provenance": [],
      "collapsed_sections": [],
      "toc_visible": true
    },
    "kernelspec": {
      "name": "python3",
      "display_name": "Python 3"
    }
  },
  "cells": [
    {
      "cell_type": "markdown",
      "metadata": {
        "id": "MF47DSPemrnX"
      },
      "source": [
        "# ML Regression Algorithms from Scratch - Polynomial Regression "
      ]
    },
    {
      "cell_type": "markdown",
      "metadata": {
        "id": "bGjv_UdtP999"
      },
      "source": [
        "## Introduction"
      ]
    },
    {
      "cell_type": "markdown",
      "metadata": {
        "id": "klk23LsZQC0M"
      },
      "source": [
        "In this notebook, first, we implement Polynomial Regression from Scratch using Numpy without Sklearn. After the scratch implementation, we also implement the Polynomial Regression using Sklearn and compare the two models. The complete code is written and executed in Google Colab. No need of installing any additional packages is required. Download this notebook and upload to Google Colab to run it by yourself. Don't forget to grab your Datasets! \r\n",
        "\r\n",
        "The Dataset used here is the **Position_Salaries** dataset provided by the Super Data Science Team under their programme **Machine Learning A-Z: Hands on Python & R in Data Science**. Find the various datasets provided by them [here](https://www.superdatascience.com/pages/machine-learning).\r\n",
        "\r\n",
        "**Response Variable** : Position\r\n",
        "\r\n",
        "**Target Variable** : Salary\r\n",
        "\r\n",
        "**Equation Used** : $y = W0 * X0 + W1 * X1 + W2 * X1^{2} + .... + WN * X1^{N}$\r\n",
        "\r\n",
        "**Why Linear?**\r\n",
        "\r\n",
        "A genuine question can be \"If the equation contain powers greater than one, how come it is **linear** regression?\" It's a great question! Note that the powers of $X$ are greater than one and these are actually constants. We have these values in our dataset. We care more about $W$ and the equation combines these product of $W$ and $X$ linearly i.e it has the linear combination of these terms.\r\n",
        "\r\n",
        "\r\n",
        "**For Scratch Implementation:**\r\n",
        "    \r\n",
        "    Loss Function : Squared Error\r\n",
        "\r\n",
        "    Optimization Algorithm : SGD\r\n",
        "\r\n",
        "    Weight Initialization : Xavier Initialization\r\n",
        "\r\n"
      ]
    },
    {
      "cell_type": "markdown",
      "metadata": {
        "id": "saI5S98Fkvx8"
      },
      "source": [
        "## Polynomial Regression from Scratch without SKlearn"
      ]
    },
    {
      "cell_type": "markdown",
      "metadata": {
        "id": "DXvL5a1RlAzE"
      },
      "source": [
        "### Importing the Dependencies"
      ]
    },
    {
      "cell_type": "code",
      "metadata": {
        "id": "GXI1413Foust"
      },
      "source": [
        "#importing the required packages\r\n",
        "import numpy as np\r\n",
        "import pandas as pd\r\n",
        "import matplotlib.pyplot as plt"
      ],
      "execution_count": 1,
      "outputs": []
    },
    {
      "cell_type": "code",
      "metadata": {
        "id": "r-N2v41Hfqdw"
      },
      "source": [
        "!cp /content/drive/MyDrive/Position_Salaries.csv /content"
      ],
      "execution_count": 2,
      "outputs": []
    },
    {
      "cell_type": "markdown",
      "metadata": {
        "id": "s0J-6GLhlFxE"
      },
      "source": [
        "### Get the Data and Data Preprocessing"
      ]
    },
    {
      "cell_type": "code",
      "metadata": {
        "id": "Kr3QiE8Jf3Pa"
      },
      "source": [
        "#Get the dataset\r\n",
        "dataset = pd.read_csv(r'/content/Position_Salaries.csv')"
      ],
      "execution_count": 3,
      "outputs": []
    },
    {
      "cell_type": "code",
      "metadata": {
        "colab": {
          "base_uri": "https://localhost:8080/",
          "height": 195
        },
        "id": "y8hHhyM1BuIb",
        "outputId": "1d98839e-25da-4674-ecf8-fd57ce5dc466"
      },
      "source": [
        "#Get a glimpse of the Dataset\r\n",
        "dataset.head()"
      ],
      "execution_count": 4,
      "outputs": [
        {
          "output_type": "execute_result",
          "data": {
            "text/html": [
              "<div>\n",
              "<style scoped>\n",
              "    .dataframe tbody tr th:only-of-type {\n",
              "        vertical-align: middle;\n",
              "    }\n",
              "\n",
              "    .dataframe tbody tr th {\n",
              "        vertical-align: top;\n",
              "    }\n",
              "\n",
              "    .dataframe thead th {\n",
              "        text-align: right;\n",
              "    }\n",
              "</style>\n",
              "<table border=\"1\" class=\"dataframe\">\n",
              "  <thead>\n",
              "    <tr style=\"text-align: right;\">\n",
              "      <th></th>\n",
              "      <th>Position</th>\n",
              "      <th>Level</th>\n",
              "      <th>Salary</th>\n",
              "    </tr>\n",
              "  </thead>\n",
              "  <tbody>\n",
              "    <tr>\n",
              "      <th>0</th>\n",
              "      <td>Business Analyst</td>\n",
              "      <td>1</td>\n",
              "      <td>45000</td>\n",
              "    </tr>\n",
              "    <tr>\n",
              "      <th>1</th>\n",
              "      <td>Junior Consultant</td>\n",
              "      <td>2</td>\n",
              "      <td>50000</td>\n",
              "    </tr>\n",
              "    <tr>\n",
              "      <th>2</th>\n",
              "      <td>Senior Consultant</td>\n",
              "      <td>3</td>\n",
              "      <td>60000</td>\n",
              "    </tr>\n",
              "    <tr>\n",
              "      <th>3</th>\n",
              "      <td>Manager</td>\n",
              "      <td>4</td>\n",
              "      <td>80000</td>\n",
              "    </tr>\n",
              "    <tr>\n",
              "      <th>4</th>\n",
              "      <td>Country Manager</td>\n",
              "      <td>5</td>\n",
              "      <td>110000</td>\n",
              "    </tr>\n",
              "  </tbody>\n",
              "</table>\n",
              "</div>"
            ],
            "text/plain": [
              "            Position  Level  Salary\n",
              "0   Business Analyst      1   45000\n",
              "1  Junior Consultant      2   50000\n",
              "2  Senior Consultant      3   60000\n",
              "3            Manager      4   80000\n",
              "4    Country Manager      5  110000"
            ]
          },
          "metadata": {
            "tags": []
          },
          "execution_count": 4
        }
      ]
    },
    {
      "cell_type": "code",
      "metadata": {
        "id": "ake97iPi8_I7"
      },
      "source": [
        "#Separating the independent and dependent features\r\n",
        "#Dependent feature\r\n",
        "y = np.asarray(dataset['Salary'].values.tolist()) \r\n",
        "\r\n",
        "# Independent Feature\r\n",
        "X = np.asarray(dataset['Level'].values.tolist())"
      ],
      "execution_count": 5,
      "outputs": []
    },
    {
      "cell_type": "code",
      "metadata": {
        "id": "kg7PYvQJw0Ry"
      },
      "source": [
        "# Reshaping the independent feature\r\n",
        "X = X.reshape(-1,1)"
      ],
      "execution_count": 6,
      "outputs": []
    },
    {
      "cell_type": "code",
      "metadata": {
        "id": "iZhxeXCPi8Rd"
      },
      "source": [
        "#Reshaping the Dependent features\r\n",
        "y = y.reshape(len(y),1) # Changing the shape from (50,) to (50,1)"
      ],
      "execution_count": 7,
      "outputs": []
    },
    {
      "cell_type": "code",
      "metadata": {
        "colab": {
          "base_uri": "https://localhost:8080/"
        },
        "id": "DaSyDT_fGlf5",
        "outputId": "0027396b-6d9a-4e27-d182-bd1e0de2baf8"
      },
      "source": [
        "#Get the shapes of X and y\r\n",
        "print(\"The shape of the independent fatures are \",X.shape)\r\n",
        "print(\"The shape of the dependent fatures are \",y.shape)"
      ],
      "execution_count": 8,
      "outputs": [
        {
          "output_type": "stream",
          "text": [
            "The shape of the independent fatures are  (10, 1)\n",
            "The shape of the dependent fatures are  (10, 1)\n"
          ],
          "name": "stdout"
        }
      ]
    },
    {
      "cell_type": "markdown",
      "metadata": {
        "id": "TEAUmgwclN5d"
      },
      "source": [
        "### Utility Methods"
      ]
    },
    {
      "cell_type": "code",
      "metadata": {
        "id": "Rl7z014BRVlI"
      },
      "source": [
        "# The method \"poly_features\" concatenates polynomials of independent feature to X\r\n",
        "# This is similar to PolynomialFeatures class from sklearn.preprocessing\r\n",
        "def poly_features(features, X):\r\n",
        "  data = pd.DataFrame(np.zeros((X.shape[0],features)))\r\n",
        "  for i in range(1,features+1):\r\n",
        "    data.iloc[:,i-1] = (X**i).reshape(-1,1)\r\n",
        "  X_poly = np.array(data.values.tolist())\r\n",
        "  return X_poly"
      ],
      "execution_count": 9,
      "outputs": []
    },
    {
      "cell_type": "code",
      "metadata": {
        "id": "sMFw3Ps4IjIY"
      },
      "source": [
        "# The method \"split_data\" splits the given dataset into trainset and testset\r\n",
        "# This is similar to the method \"train_test_split\" from \"sklearn.model_selection\"\r\n",
        "def split_data(X,y,test_size=0.2,random_state=0):\r\n",
        "    np.random.seed(random_state)                  #set the seed for reproducible results\r\n",
        "    indices = np.random.permutation(len(X))       #shuffling the indices\r\n",
        "    data_test_size = int(X.shape[0] * test_size)  #Get the test size\r\n",
        "\r\n",
        "    #Separating the Independent and Dependent features into the Train and Test Set\r\n",
        "    train_indices = indices[data_test_size:]\r\n",
        "    test_indices = indices[:data_test_size]\r\n",
        "    X_train = X[train_indices]\r\n",
        "    y_train = y[train_indices]\r\n",
        "    X_test = X[test_indices]\r\n",
        "    y_test = y[test_indices]\r\n",
        "    return X_train, y_train, X_test, y_test"
      ],
      "execution_count": 10,
      "outputs": []
    },
    {
      "cell_type": "code",
      "metadata": {
        "id": "RvTLCV2VqAZ4"
      },
      "source": [
        "# The method pred_to_plot returns predictions on given values and helps in\r\n",
        "# better visualization\r\n",
        "def pred_to_plot(W_trained, X):\r\n",
        "  prediction_values = list()\r\n",
        "  for i in range(X.shape[0]):\r\n",
        "    value = regressor.predict(W_trained,X[i])\r\n",
        "    prediction_values.append(value)\r\n",
        "  return prediction_values"
      ],
      "execution_count": 11,
      "outputs": []
    },
    {
      "cell_type": "markdown",
      "metadata": {
        "id": "pjKljivClbWf"
      },
      "source": [
        "### Coding the polynomialRegression Class"
      ]
    },
    {
      "cell_type": "code",
      "metadata": {
        "id": "mBt41FyrunIl"
      },
      "source": [
        "class polynomialRegression():\r\n",
        "\r\n",
        "  def __init__(self):\r\n",
        "    #No instance Variables required\r\n",
        "    pass\r\n",
        "\r\n",
        "  def forward(self,X,y,W):\r\n",
        "    \"\"\"\r\n",
        "    Parameters:\r\n",
        "    X (array) : Independent Features\r\n",
        "    y (array) : Dependent Features/ Target Variable\r\n",
        "    W (array) : Weights \r\n",
        "\r\n",
        "    Returns:\r\n",
        "    loss (float) : Calculated Sqaured Error Loss for y and y_pred\r\n",
        "    y_pred (array) : Predicted Target Variable\r\n",
        "    \"\"\"\r\n",
        "    y_pred = sum(W * X)\r\n",
        "    loss = ((y_pred-y)**2)/2    #Loss = Squared Error, we introduce 1/2 for ease in the calculation\r\n",
        "    return loss, y_pred\r\n",
        "\r\n",
        "  def updateWeights(self,X,y_pred,y_true,W,alpha,index):\r\n",
        "    \"\"\"\r\n",
        "    Parameters:\r\n",
        "    X (array) : Independent Features\r\n",
        "    y_pred (array) : Predicted Target Variable\r\n",
        "    y_true (array) : Dependent Features/ Target Variable\r\n",
        "    W (array) : Weights\r\n",
        "    alpha (float) : learning rate\r\n",
        "    index (int) : Index to fetch the corresponding values of W, X and y \r\n",
        "\r\n",
        "    Returns:\r\n",
        "    W (array) : Update Values of Weight\r\n",
        "    \"\"\"\r\n",
        "    for i in range(X.shape[1]):\r\n",
        "      #alpha = learning rate, rest of the RHS is derivative of loss function\r\n",
        "      W[i] -= (alpha * (y_pred-y_true[index])*X[index][i]) \r\n",
        "    return W\r\n",
        "\r\n",
        "  def train(self, X, y, epochs=10, alpha=0.001, random_state=0):\r\n",
        "    \"\"\"\r\n",
        "    Parameters:\r\n",
        "    X (array) : Independent Feature\r\n",
        "    y (array) : Dependent Features/ Target Variable\r\n",
        "    epochs (int) : Number of epochs for training, default value is 10\r\n",
        "    alpha (float) : learning rate, default value is 0.001\r\n",
        "\r\n",
        "    Returns:\r\n",
        "    y_pred (array) : Predicted Target Variable\r\n",
        "    loss (float) : Calculated Sqaured Error Loss for y and y_pred\r\n",
        "    \"\"\"\r\n",
        "\r\n",
        "    num_rows = X.shape[0] #Number of Rows\r\n",
        "    num_cols = X.shape[1] #Number of Columns \r\n",
        "    W = np.random.randn(1,num_cols) / np.sqrt(num_rows) #Weight Initialization\r\n",
        "\r\n",
        "    #Calculating Loss and Updating Weights\r\n",
        "    train_loss = []\r\n",
        "    num_epochs = []\r\n",
        "    train_indices = [i for i in range(X.shape[0])]\r\n",
        "    for j in range(epochs):\r\n",
        "      cost=0\r\n",
        "      np.random.seed(random_state)\r\n",
        "      np.random.shuffle(train_indices)\r\n",
        "      for i in train_indices:\r\n",
        "        loss, y_pred = self.forward(X[i],y[i],W[0])\r\n",
        "        cost+=loss\r\n",
        "        W[0] = self.updateWeights(X,y_pred,y,W[0],alpha,i)\r\n",
        "      train_loss.append(cost)\r\n",
        "      num_epochs.append(j)\r\n",
        "    return W[0], train_loss, num_epochs\r\n",
        "\r\n",
        "  def test(self, X_test, y_test, W_trained):\r\n",
        "    \"\"\"\r\n",
        "    Parameters:\r\n",
        "    X_test (array) : Independent Features from the Test Set\r\n",
        "    y_test (array) : Dependent Features/ Target Variable from the Test Set\r\n",
        "    W_trained (array) : Trained Weights\r\n",
        "    test_indices (list) : Index to fetch the corresponding values of W_trained,\r\n",
        "                          X_test and y_test \r\n",
        "\r\n",
        "    Returns:\r\n",
        "    test_pred (list) : Predicted Target Variable\r\n",
        "    test_loss (list) : Calculated Sqaured Error Loss for y and y_pred\r\n",
        "    \"\"\"\r\n",
        "    test_pred = []\r\n",
        "    test_loss = []\r\n",
        "    test_indices = [i for i in range(X_test.shape[0])]\r\n",
        "    for i in test_indices:\r\n",
        "        loss, y_test_pred = self.forward(X_test[i], W_trained, y_test[i])\r\n",
        "        test_pred.append(y_test_pred)\r\n",
        "        test_loss.append(loss)\r\n",
        "    return test_pred, test_loss\r\n",
        "    \r\n",
        "\r\n",
        "  def predict(self, W_trained, X_sample):\r\n",
        "    prediction = sum(W_trained * X_sample)\r\n",
        "    return prediction\r\n",
        "\r\n",
        "  def plotLoss(self, loss, epochs):\r\n",
        "    \"\"\"\r\n",
        "    Parameters:\r\n",
        "    loss (list) : Calculated Sqaured Error Loss for y and y_pred\r\n",
        "    epochs (list): Number of Epochs\r\n",
        "\r\n",
        "    Returns: None\r\n",
        "    Plots a graph of Loss vs Epochs\r\n",
        "    \"\"\"\r\n",
        "    plt.plot(epochs, loss)\r\n",
        "    plt.xlabel('Number of Epochs')\r\n",
        "    plt.ylabel('Loss')\r\n",
        "    plt.title('Plot Loss')\r\n",
        "    plt.show()\r\n",
        "  \r\n"
      ],
      "execution_count": 12,
      "outputs": []
    },
    {
      "cell_type": "markdown",
      "metadata": {
        "id": "KL3sFhd5sJ85"
      },
      "source": [
        "### Polynomial Regression (N = 2)"
      ]
    },
    {
      "cell_type": "markdown",
      "metadata": {
        "id": "YSkVe04GqPzi"
      },
      "source": [
        "Consider the Polynomial Regression equation, we need to decide the value of $N$ with respect to the Data. Here, we choose the value $N=2$. Definitely, we can iterate over various values of $N$, after the initial results. However, first, we need to create another column $Level^{2}$, since it's our Independent Feature."
      ]
    },
    {
      "cell_type": "code",
      "metadata": {
        "id": "95algiQxXZGB"
      },
      "source": [
        "# Independent Feature\r\n",
        "X = np.asarray(dataset['Level'].values.tolist())"
      ],
      "execution_count": 13,
      "outputs": []
    },
    {
      "cell_type": "code",
      "metadata": {
        "id": "8A83aFOEXZpY"
      },
      "source": [
        "# Reshaping the independent feature\r\n",
        "X = X.reshape(-1,1)"
      ],
      "execution_count": 14,
      "outputs": []
    },
    {
      "cell_type": "code",
      "metadata": {
        "colab": {
          "base_uri": "https://localhost:8080/"
        },
        "id": "_r457PtZX6JZ",
        "outputId": "7b068e56-667b-4371-8216-7c0b544c0696"
      },
      "source": [
        "X"
      ],
      "execution_count": 15,
      "outputs": [
        {
          "output_type": "execute_result",
          "data": {
            "text/plain": [
              "array([[ 1],\n",
              "       [ 2],\n",
              "       [ 3],\n",
              "       [ 4],\n",
              "       [ 5],\n",
              "       [ 6],\n",
              "       [ 7],\n",
              "       [ 8],\n",
              "       [ 9],\n",
              "       [10]])"
            ]
          },
          "metadata": {
            "tags": []
          },
          "execution_count": 15
        }
      ]
    },
    {
      "cell_type": "code",
      "metadata": {
        "id": "qXnThaRhVFWN"
      },
      "source": [
        "X = poly_features(2,X)"
      ],
      "execution_count": 16,
      "outputs": []
    },
    {
      "cell_type": "code",
      "metadata": {
        "id": "fw0PhGdmVFWU"
      },
      "source": [
        "#Adding the feature X0 = 1, so we have the equation: y =  W0 + (W1 * X1) + (W2 * (X1**2))\r\n",
        "X = np.concatenate((X,np.ones((10,1))), axis = 1)"
      ],
      "execution_count": 17,
      "outputs": []
    },
    {
      "cell_type": "code",
      "metadata": {
        "colab": {
          "base_uri": "https://localhost:8080/"
        },
        "id": "pcE64xTnVFWU",
        "outputId": "f3e233fa-a9e3-42ff-d947-7f37ea629b34"
      },
      "source": [
        "X"
      ],
      "execution_count": 18,
      "outputs": [
        {
          "output_type": "execute_result",
          "data": {
            "text/plain": [
              "array([[  1.,   1.,   1.],\n",
              "       [  2.,   4.,   1.],\n",
              "       [  3.,   9.,   1.],\n",
              "       [  4.,  16.,   1.],\n",
              "       [  5.,  25.,   1.],\n",
              "       [  6.,  36.,   1.],\n",
              "       [  7.,  49.,   1.],\n",
              "       [  8.,  64.,   1.],\n",
              "       [  9.,  81.,   1.],\n",
              "       [ 10., 100.,   1.]])"
            ]
          },
          "metadata": {
            "tags": []
          },
          "execution_count": 18
        }
      ]
    },
    {
      "cell_type": "code",
      "metadata": {
        "colab": {
          "base_uri": "https://localhost:8080/"
        },
        "id": "uSO16vuAVFWU",
        "outputId": "58054c47-dc8a-411f-90e4-a31990f2add8"
      },
      "source": [
        "y"
      ],
      "execution_count": 19,
      "outputs": [
        {
          "output_type": "execute_result",
          "data": {
            "text/plain": [
              "array([[  45000],\n",
              "       [  50000],\n",
              "       [  60000],\n",
              "       [  80000],\n",
              "       [ 110000],\n",
              "       [ 150000],\n",
              "       [ 200000],\n",
              "       [ 300000],\n",
              "       [ 500000],\n",
              "       [1000000]])"
            ]
          },
          "metadata": {
            "tags": []
          },
          "execution_count": 19
        }
      ]
    },
    {
      "cell_type": "code",
      "metadata": {
        "id": "upP6PeVIVFWV"
      },
      "source": [
        "#Splitting the dataset\r\n",
        "X_train, y_train, X_test, y_test = split_data(X,y)"
      ],
      "execution_count": 20,
      "outputs": []
    },
    {
      "cell_type": "code",
      "metadata": {
        "id": "XtPZ2MhQVFWV"
      },
      "source": [
        "#declaring the \"regressor\" as an object of the class polynomialRegression\r\n",
        "regressor = polynomialRegression()"
      ],
      "execution_count": 21,
      "outputs": []
    },
    {
      "cell_type": "code",
      "metadata": {
        "id": "YBP-_YakVFWV"
      },
      "source": [
        "#Training \r\n",
        "W_trained, train_loss, num_epochs = regressor.train(X_train, y_train, epochs=200, alpha=0.00001)"
      ],
      "execution_count": 22,
      "outputs": []
    },
    {
      "cell_type": "code",
      "metadata": {
        "id": "TdCPaTGhVFWV"
      },
      "source": [
        "#Testing on the Test Dataset\r\n",
        "test_pred, test_loss = regressor.test(X_test, y_test, W_trained)"
      ],
      "execution_count": 23,
      "outputs": []
    },
    {
      "cell_type": "markdown",
      "metadata": {
        "id": "Y-mRXKlqVFWW"
      },
      "source": [
        "#### Visualizing Results"
      ]
    },
    {
      "cell_type": "markdown",
      "metadata": {
        "id": "PrwuQURKdFuR"
      },
      "source": [
        "We use the entire dataset for better visualization because only test dataset won't give a clear idea because the size of our dataset is too small. Using the complete dataset will enable us to get a better insight.\r\n",
        "\r\n",
        "\r\n",
        " We use the entire dataset for all the visualizations ahead in the notebook too."
      ]
    },
    {
      "cell_type": "code",
      "metadata": {
        "id": "mCtyxmn3VFWW"
      },
      "source": [
        "pred_plot = pred_to_plot(W_trained,X)"
      ],
      "execution_count": 24,
      "outputs": []
    },
    {
      "cell_type": "code",
      "metadata": {
        "colab": {
          "base_uri": "https://localhost:8080/",
          "height": 295
        },
        "id": "eIKBAbF2VFWW",
        "outputId": "6ef358a3-5285-4761-d7a7-cb6e1a9ab77e"
      },
      "source": [
        "plt.scatter(X[:,0], y, color = 'red')\r\n",
        "plt.plot(X[:,0], pred_plot, color = 'blue')\r\n",
        "plt.title('Naive Polynomial Regression (N = 2)')\r\n",
        "plt.xlabel('Position level')\r\n",
        "plt.ylabel('Salary')\r\n",
        "plt.show()"
      ],
      "execution_count": 25,
      "outputs": [
        {
          "output_type": "display_data",
          "data": {
            "image/png": "[encoded data removed]",
            "text/plain": [
              "<Figure size 432x288 with 1 Axes>"
            ]
          },
          "metadata": {
            "tags": [],
            "needs_background": "light"
          }
        }
      ]
    },
    {
      "cell_type": "markdown",
      "metadata": {
        "id": "z_xQKHWQZfZ5"
      },
      "source": [
        "We have got good results for $N=2$ but we can try for better performance by changing the value of $N$.\r\n",
        "\r\n",
        " Let us train the regressor for $N=4$."
      ]
    },
    {
      "cell_type": "markdown",
      "metadata": {
        "id": "bFwXfcNtU-7w"
      },
      "source": [
        "### Polynomial Regression (N=4)"
      ]
    },
    {
      "cell_type": "code",
      "metadata": {
        "id": "m7vCTpzGObUr"
      },
      "source": [
        "# Independent Feature\r\n",
        "X = np.asarray(dataset['Level'].values.tolist())"
      ],
      "execution_count": 26,
      "outputs": []
    },
    {
      "cell_type": "code",
      "metadata": {
        "id": "Rvpp58TTObU0"
      },
      "source": [
        "# Reshaping the independent feature\r\n",
        "X = X.reshape(-1,1)"
      ],
      "execution_count": 27,
      "outputs": []
    },
    {
      "cell_type": "code",
      "metadata": {
        "id": "Ig7uR_ylT6_Q"
      },
      "source": [
        "# Constructing the polynomials of our Independent features \r\n",
        "X_poly = poly_features(4,X)"
      ],
      "execution_count": 28,
      "outputs": []
    },
    {
      "cell_type": "code",
      "metadata": {
        "id": "WHGaikOGkSYQ"
      },
      "source": [
        "#Adding the feature X0 = 1, so we have the equation: y =  W0 + (W1 * X1) + (W2 * (X1**2))\r\n",
        "X_poly = np.concatenate((X_poly,np.ones((10,1))), axis = 1)"
      ],
      "execution_count": 29,
      "outputs": []
    },
    {
      "cell_type": "code",
      "metadata": {
        "colab": {
          "base_uri": "https://localhost:8080/"
        },
        "id": "fNkI1FZ9US_f",
        "outputId": "22cd76f5-cb66-4d43-fafb-400c8b7076df"
      },
      "source": [
        "X_poly"
      ],
      "execution_count": 30,
      "outputs": [
        {
          "output_type": "execute_result",
          "data": {
            "text/plain": [
              "array([[1.000e+00, 1.000e+00, 1.000e+00, 1.000e+00, 1.000e+00],\n",
              "       [2.000e+00, 4.000e+00, 8.000e+00, 1.600e+01, 1.000e+00],\n",
              "       [3.000e+00, 9.000e+00, 2.700e+01, 8.100e+01, 1.000e+00],\n",
              "       [4.000e+00, 1.600e+01, 6.400e+01, 2.560e+02, 1.000e+00],\n",
              "       [5.000e+00, 2.500e+01, 1.250e+02, 6.250e+02, 1.000e+00],\n",
              "       [6.000e+00, 3.600e+01, 2.160e+02, 1.296e+03, 1.000e+00],\n",
              "       [7.000e+00, 4.900e+01, 3.430e+02, 2.401e+03, 1.000e+00],\n",
              "       [8.000e+00, 6.400e+01, 5.120e+02, 4.096e+03, 1.000e+00],\n",
              "       [9.000e+00, 8.100e+01, 7.290e+02, 6.561e+03, 1.000e+00],\n",
              "       [1.000e+01, 1.000e+02, 1.000e+03, 1.000e+04, 1.000e+00]])"
            ]
          },
          "metadata": {
            "tags": []
          },
          "execution_count": 30
        }
      ]
    },
    {
      "cell_type": "code",
      "metadata": {
        "colab": {
          "base_uri": "https://localhost:8080/"
        },
        "id": "B_A9RqEVvGbU",
        "outputId": "0501ff00-0a5a-462e-afb2-1564a792e0ee"
      },
      "source": [
        "y"
      ],
      "execution_count": 31,
      "outputs": [
        {
          "output_type": "execute_result",
          "data": {
            "text/plain": [
              "array([[  45000],\n",
              "       [  50000],\n",
              "       [  60000],\n",
              "       [  80000],\n",
              "       [ 110000],\n",
              "       [ 150000],\n",
              "       [ 200000],\n",
              "       [ 300000],\n",
              "       [ 500000],\n",
              "       [1000000]])"
            ]
          },
          "metadata": {
            "tags": []
          },
          "execution_count": 31
        }
      ]
    },
    {
      "cell_type": "code",
      "metadata": {
        "id": "SeUC0VYImNlQ"
      },
      "source": [
        "#Splitting the dataset\r\n",
        "X_train, y_train, X_test, y_test = split_data(X_poly,y)"
      ],
      "execution_count": 32,
      "outputs": []
    },
    {
      "cell_type": "code",
      "metadata": {
        "id": "2UU50V05mRoN"
      },
      "source": [
        "#declaring the \"regressor\" as an object of the class LinearRegression\r\n",
        "regressor = polynomialRegression()"
      ],
      "execution_count": 33,
      "outputs": []
    },
    {
      "cell_type": "code",
      "metadata": {
        "id": "5wLjNkQnusqh"
      },
      "source": [
        "#Training \r\n",
        "W_trained, train_loss, num_epochs = regressor.train(X_train, y_train, epochs=1000, alpha=1e-9)"
      ],
      "execution_count": 34,
      "outputs": []
    },
    {
      "cell_type": "code",
      "metadata": {
        "id": "_JQSySiyxJ4n"
      },
      "source": [
        "#Testing on the Test Dataset\r\n",
        "test_pred, test_loss = regressor.test(X_test, y_test, W_trained)"
      ],
      "execution_count": 35,
      "outputs": []
    },
    {
      "cell_type": "code",
      "metadata": {
        "colab": {
          "base_uri": "https://localhost:8080/"
        },
        "id": "jH63VP1uMs1Z",
        "outputId": "1ee2e59b-e3c4-42c7-e019-7706023f5689"
      },
      "source": [
        "X_poly"
      ],
      "execution_count": 36,
      "outputs": [
        {
          "output_type": "execute_result",
          "data": {
            "text/plain": [
              "array([[1.000e+00, 1.000e+00, 1.000e+00, 1.000e+00, 1.000e+00],\n",
              "       [2.000e+00, 4.000e+00, 8.000e+00, 1.600e+01, 1.000e+00],\n",
              "       [3.000e+00, 9.000e+00, 2.700e+01, 8.100e+01, 1.000e+00],\n",
              "       [4.000e+00, 1.600e+01, 6.400e+01, 2.560e+02, 1.000e+00],\n",
              "       [5.000e+00, 2.500e+01, 1.250e+02, 6.250e+02, 1.000e+00],\n",
              "       [6.000e+00, 3.600e+01, 2.160e+02, 1.296e+03, 1.000e+00],\n",
              "       [7.000e+00, 4.900e+01, 3.430e+02, 2.401e+03, 1.000e+00],\n",
              "       [8.000e+00, 6.400e+01, 5.120e+02, 4.096e+03, 1.000e+00],\n",
              "       [9.000e+00, 8.100e+01, 7.290e+02, 6.561e+03, 1.000e+00],\n",
              "       [1.000e+01, 1.000e+02, 1.000e+03, 1.000e+04, 1.000e+00]])"
            ]
          },
          "metadata": {
            "tags": []
          },
          "execution_count": 36
        }
      ]
    },
    {
      "cell_type": "markdown",
      "metadata": {
        "id": "LbXBW88kpjmN"
      },
      "source": [
        "#### Visualizing Results"
      ]
    },
    {
      "cell_type": "code",
      "metadata": {
        "id": "13Xa6LURUGDX"
      },
      "source": [
        "pred_plot = pred_to_plot(W_trained,X_poly)"
      ],
      "execution_count": 37,
      "outputs": []
    },
    {
      "cell_type": "code",
      "metadata": {
        "colab": {
          "base_uri": "https://localhost:8080/"
        },
        "id": "FN5hLy2qM6mf",
        "outputId": "a90dc23f-c8d9-42bb-d1c3-92c3c97cfafa"
      },
      "source": [
        "pred_plot"
      ],
      "execution_count": 38,
      "outputs": [
        {
          "output_type": "execute_result",
          "data": {
            "text/plain": [
              "[101.56686988148302,\n",
              " 1570.332736753576,\n",
              " 7876.252690310476,\n",
              " 24783.645533405484,\n",
              " 60351.39230382515,\n",
              " 124932.93627428928,\n",
              " 231176.28295245094,\n",
              " 394024.0000808964,\n",
              " 630713.2176371454,\n",
              " 960775.6278336504]"
            ]
          },
          "metadata": {
            "tags": []
          },
          "execution_count": 38
        }
      ]
    },
    {
      "cell_type": "code",
      "metadata": {
        "colab": {
          "base_uri": "https://localhost:8080/",
          "height": 295
        },
        "id": "Ae5Hkdxeorhn",
        "outputId": "7360ebfc-2369-49a2-e6d5-9a75a0909c59"
      },
      "source": [
        "plt.scatter(X_poly[:,0], y, color = 'red')\r\n",
        "plt.plot(X_poly[:,0], pred_plot, color = 'blue')\r\n",
        "plt.title('Naive Polynomial Regression (N=4)')\r\n",
        "plt.xlabel('Position level')\r\n",
        "plt.ylabel('Salary')\r\n",
        "plt.show()"
      ],
      "execution_count": 39,
      "outputs": [
        {
          "output_type": "display_data",
          "data": {
            "image/png": "[encoded data removed]",
            "text/plain": [
              "<Figure size 432x288 with 1 Axes>"
            ]
          },
          "metadata": {
            "tags": [],
            "needs_background": "light"
          }
        }
      ]
    },
    {
      "cell_type": "markdown",
      "metadata": {
        "id": "nQBI53TeZ7mq"
      },
      "source": [
        "Clearly, the regressor with $N=4$ performs better than the regressor with $N=2$. You can increase the value of $N$ and look for better performance but, be careful that you don't run into the problem of **Overfitting**.\r\n",
        "\r\n",
        "As of now, our best regressor has $N=4$ and therefore, we will train the polynomial regression using sklearn only for $N=4$"
      ]
    },
    {
      "cell_type": "markdown",
      "metadata": {
        "id": "v7qN5ze_nCaU"
      },
      "source": [
        "## Polynomial Regression using Sklearn"
      ]
    },
    {
      "cell_type": "markdown",
      "metadata": {
        "id": "5qzeCvuHnUkd"
      },
      "source": [
        "### Importing dependencies"
      ]
    },
    {
      "cell_type": "code",
      "metadata": {
        "id": "WxTLPi00nPlR"
      },
      "source": [
        "import numpy as np\r\n",
        "import pandas\r\n",
        "import matplotlib.pyplot as plt \r\n",
        "from sklearn.model_selection import train_test_split\r\n",
        "from sklearn.linear_model import LinearRegression\r\n",
        "from sklearn.preprocessing import PolynomialFeatures"
      ],
      "execution_count": 40,
      "outputs": []
    },
    {
      "cell_type": "markdown",
      "metadata": {
        "id": "6n4bZLnyoRBF"
      },
      "source": [
        "### Data Preprocessing"
      ]
    },
    {
      "cell_type": "code",
      "metadata": {
        "id": "9RVobIAMoUJP"
      },
      "source": [
        "#Get the Dataset and separating the independent and dependent features\r\n",
        "dataset = pd.read_csv(r'/content/drive/MyDrive/Position_Salaries.csv')\r\n",
        "X_sk = dataset.iloc[:, 1].values\r\n",
        "y_sk = dataset.iloc[:, -1].values"
      ],
      "execution_count": 41,
      "outputs": []
    },
    {
      "cell_type": "code",
      "metadata": {
        "id": "Us4eMetBR6hA"
      },
      "source": [
        "#Reshaping the Independent amd Dependent Features\r\n",
        "X_sk = X_sk.reshape(-1,1)\r\n",
        "y_sk = y_sk.reshape(-1,1)"
      ],
      "execution_count": 42,
      "outputs": []
    },
    {
      "cell_type": "code",
      "metadata": {
        "id": "aL1_GomWS7hx"
      },
      "source": [
        "# Constructing the polynomials of our Independent features \r\n",
        "poly_reg = PolynomialFeatures(degree = 4)\r\n",
        "X_poly_sk = poly_reg.fit_transform(X_sk)"
      ],
      "execution_count": 43,
      "outputs": []
    },
    {
      "cell_type": "code",
      "metadata": {
        "colab": {
          "base_uri": "https://localhost:8080/"
        },
        "id": "RfpkKXFR7yWu",
        "outputId": "28f2b2e5-56fa-416b-a0ff-51a0cc654937"
      },
      "source": [
        "#Get the shapes of X and y\r\n",
        "print(\"The shape of the independent fatures are \",X_poly_sk.shape)\r\n",
        "print(\"The shape of the dependent fatures are \",y_sk.shape)"
      ],
      "execution_count": 44,
      "outputs": [
        {
          "output_type": "stream",
          "text": [
            "The shape of the independent fatures are  (10, 5)\n",
            "The shape of the dependent fatures are  (10, 1)\n"
          ],
          "name": "stdout"
        }
      ]
    },
    {
      "cell_type": "code",
      "metadata": {
        "colab": {
          "base_uri": "https://localhost:8080/"
        },
        "id": "gngrHYRGT3aR",
        "outputId": "9b2eca00-eca4-4678-b378-648f3965ab55"
      },
      "source": [
        "X_poly_sk"
      ],
      "execution_count": 45,
      "outputs": [
        {
          "output_type": "execute_result",
          "data": {
            "text/plain": [
              "array([[1.000e+00, 1.000e+00, 1.000e+00, 1.000e+00, 1.000e+00],\n",
              "       [1.000e+00, 2.000e+00, 4.000e+00, 8.000e+00, 1.600e+01],\n",
              "       [1.000e+00, 3.000e+00, 9.000e+00, 2.700e+01, 8.100e+01],\n",
              "       [1.000e+00, 4.000e+00, 1.600e+01, 6.400e+01, 2.560e+02],\n",
              "       [1.000e+00, 5.000e+00, 2.500e+01, 1.250e+02, 6.250e+02],\n",
              "       [1.000e+00, 6.000e+00, 3.600e+01, 2.160e+02, 1.296e+03],\n",
              "       [1.000e+00, 7.000e+00, 4.900e+01, 3.430e+02, 2.401e+03],\n",
              "       [1.000e+00, 8.000e+00, 6.400e+01, 5.120e+02, 4.096e+03],\n",
              "       [1.000e+00, 9.000e+00, 8.100e+01, 7.290e+02, 6.561e+03],\n",
              "       [1.000e+00, 1.000e+01, 1.000e+02, 1.000e+03, 1.000e+04]])"
            ]
          },
          "metadata": {
            "tags": []
          },
          "execution_count": 45
        }
      ]
    },
    {
      "cell_type": "markdown",
      "metadata": {
        "id": "HHBdiwMyo8c0"
      },
      "source": [
        "### Polynomial Regression"
      ]
    },
    {
      "cell_type": "code",
      "metadata": {
        "id": "y2SAKXOUo07O"
      },
      "source": [
        "# Splitting the dataset into the Training set and Test set\r\n",
        "X_train_sk, X_test_sk, y_train_sk, y_test_sk = train_test_split(X_poly_sk, y_sk, test_size = 0.2, random_state = 0)"
      ],
      "execution_count": 46,
      "outputs": []
    },
    {
      "cell_type": "code",
      "metadata": {
        "id": "M_ZxKwyzpAuo",
        "colab": {
          "base_uri": "https://localhost:8080/"
        },
        "outputId": "be5437c9-3d8e-4971-80c2-933f249ba80e"
      },
      "source": [
        "# Fitting Simple Linear Regression to the Training set\r\n",
        "regressor_sk = LinearRegression()\r\n",
        "regressor_sk.fit(X_train_sk, y_train_sk)"
      ],
      "execution_count": 47,
      "outputs": [
        {
          "output_type": "execute_result",
          "data": {
            "text/plain": [
              "LinearRegression(copy_X=True, fit_intercept=True, n_jobs=None, normalize=False)"
            ]
          },
          "metadata": {
            "tags": []
          },
          "execution_count": 47
        }
      ]
    },
    {
      "cell_type": "markdown",
      "metadata": {
        "id": "WjeXeDr1UWVp"
      },
      "source": [
        "#### Visualizing the results"
      ]
    },
    {
      "cell_type": "code",
      "metadata": {
        "colab": {
          "base_uri": "https://localhost:8080/",
          "height": 295
        },
        "id": "W3kkUQvJUaVD",
        "outputId": "7af96588-ba64-4482-943b-1038821f3633"
      },
      "source": [
        "plt.scatter(X_poly_sk[:,1], y, color = 'red')\r\n",
        "plt.plot(X_poly_sk[:,1], regressor_sk.predict(X_poly_sk), color = 'blue')\r\n",
        "plt.title('Sklearn regression')\r\n",
        "plt.xlabel('Position level')\r\n",
        "plt.ylabel('Salary')\r\n",
        "plt.show()"
      ],
      "execution_count": 48,
      "outputs": [
        {
          "output_type": "display_data",
          "data": {
            "image/png": "[encoded data removed]",
            "text/plain": [
              "<Figure size 432x288 with 1 Axes>"
            ]
          },
          "metadata": {
            "tags": [],
            "needs_background": "light"
          }
        }
      ]
    },
    {
      "cell_type": "markdown",
      "metadata": {
        "id": "-cdYj7q_eNl2"
      },
      "source": [
        "Definitely, you can download this notebook and change hyperparameters, Optimization Algorithm, etc. to improve the performance of the model and start your ML Journey!\r\n",
        "\r\n",
        "**Best of Luck!**\r\n",
        "\r\n"
      ]
    }
  ]
}