{
  "nbformat": 4,
  "nbformat_minor": 0,
  "metadata": {
    "colab": {
      "name": "linearRegression.ipynb",
      "provenance": [],
      "collapsed_sections": [],
      "toc_visible": true
    },
    "kernelspec": {
      "name": "python3",
      "display_name": "Python 3"
    }
  },
  "cells": [
    {
      "cell_type": "markdown",
      "metadata": {
        "id": "MF47DSPemrnX"
      },
      "source": [
        "# ML Regression Algorithms from Scratch - Linear Regression "
      ]
    },
    {
      "cell_type": "markdown",
      "metadata": {
        "id": "bGjv_UdtP999"
      },
      "source": [
        "## Introduction"
      ]
    },
    {
      "cell_type": "markdown",
      "metadata": {
        "id": "klk23LsZQC0M"
      },
      "source": [
        "In this notebook, first, we implement Linear Regression from Scratch using Numpy without Sklearn. After the scratch implementation, we also implement the Linear Regression using Sklearn and compare the two models. The complete code is written and executed in Google Colab. No need of installing any additional packages is required. Download this notebook and upload to Google Colab to run it by yourself. Don't forget to grab your Datasets! \r\n",
        "\r\n",
        "The Dataset used here is the **Salary_Data** dataset provided by the Super Data Science Team under their programme **Machine Learning A-Z: Hands on Python & R in Data Science**. Find the various datasets provided by them [here](https://www.superdatascience.com/pages/machine-learning).\r\n",
        "\r\n",
        "**Response Variable** - Years of Experience\r\n",
        "\r\n",
        "**Target Variable** - Salary\r\n",
        "\r\n",
        "**Equation Used** - y = W1 * X1 + W0 * X0\r\n",
        "\r\n",
        "**For Scratch Implementation:**\r\n",
        "    \r\n",
        "    Loss Function : Mean Squared Error\r\n",
        "\r\n",
        "    Optimization Algorithm : SGD\r\n",
        "\r\n",
        "    Weight Initialization : Xavier Initialization\r\n",
        "\r\n"
      ]
    },
    {
      "cell_type": "markdown",
      "metadata": {
        "id": "saI5S98Fkvx8"
      },
      "source": [
        "## Linear Regression from Scratch without SKlearn"
      ]
    },
    {
      "cell_type": "markdown",
      "metadata": {
        "id": "DXvL5a1RlAzE"
      },
      "source": [
        "### Importing the Dependencies"
      ]
    },
    {
      "cell_type": "code",
      "metadata": {
        "id": "GXI1413Foust"
      },
      "source": [
        "#importing the required packages\r\n",
        "import numpy as np\r\n",
        "import pandas as pd\r\n",
        "import matplotlib.pyplot as plt"
      ],
      "execution_count": 1,
      "outputs": []
    },
    {
      "cell_type": "code",
      "metadata": {
        "id": "r-N2v41Hfqdw"
      },
      "source": [
        "!cp /content/drive/MyDrive/Salary_Data.csv /content"
      ],
      "execution_count": 2,
      "outputs": []
    },
    {
      "cell_type": "markdown",
      "metadata": {
        "id": "s0J-6GLhlFxE"
      },
      "source": [
        "### Get the Data and Data Preprocessing"
      ]
    },
    {
      "cell_type": "code",
      "metadata": {
        "id": "Kr3QiE8Jf3Pa"
      },
      "source": [
        "#Get the dataset\r\n",
        "dataset = pd.read_csv(r'/content/Salary_Data.csv')"
      ],
      "execution_count": 3,
      "outputs": []
    },
    {
      "cell_type": "code",
      "metadata": {
        "colab": {
          "base_uri": "https://localhost:8080/",
          "height": 195
        },
        "id": "y8hHhyM1BuIb",
        "outputId": "f262734a-5857-47b6-c52c-6b7c1d17db6e"
      },
      "source": [
        "#Get a glimpse of the Dataset\r\n",
        "dataset.head()"
      ],
      "execution_count": 4,
      "outputs": [
        {
          "output_type": "execute_result",
          "data": {
            "text/html": [
              "<div>\n",
              "<style scoped>\n",
              "    .dataframe tbody tr th:only-of-type {\n",
              "        vertical-align: middle;\n",
              "    }\n",
              "\n",
              "    .dataframe tbody tr th {\n",
              "        vertical-align: top;\n",
              "    }\n",
              "\n",
              "    .dataframe thead th {\n",
              "        text-align: right;\n",
              "    }\n",
              "</style>\n",
              "<table border=\"1\" class=\"dataframe\">\n",
              "  <thead>\n",
              "    <tr style=\"text-align: right;\">\n",
              "      <th></th>\n",
              "      <th>YearsExperience</th>\n",
              "      <th>Salary</th>\n",
              "    </tr>\n",
              "  </thead>\n",
              "  <tbody>\n",
              "    <tr>\n",
              "      <th>0</th>\n",
              "      <td>1.1</td>\n",
              "      <td>39343.0</td>\n",
              "    </tr>\n",
              "    <tr>\n",
              "      <th>1</th>\n",
              "      <td>1.3</td>\n",
              "      <td>46205.0</td>\n",
              "    </tr>\n",
              "    <tr>\n",
              "      <th>2</th>\n",
              "      <td>1.5</td>\n",
              "      <td>37731.0</td>\n",
              "    </tr>\n",
              "    <tr>\n",
              "      <th>3</th>\n",
              "      <td>2.0</td>\n",
              "      <td>43525.0</td>\n",
              "    </tr>\n",
              "    <tr>\n",
              "      <th>4</th>\n",
              "      <td>2.2</td>\n",
              "      <td>39891.0</td>\n",
              "    </tr>\n",
              "  </tbody>\n",
              "</table>\n",
              "</div>"
            ],
            "text/plain": [
              "   YearsExperience   Salary\n",
              "0              1.1  39343.0\n",
              "1              1.3  46205.0\n",
              "2              1.5  37731.0\n",
              "3              2.0  43525.0\n",
              "4              2.2  39891.0"
            ]
          },
          "metadata": {
            "tags": []
          },
          "execution_count": 4
        }
      ]
    },
    {
      "cell_type": "code",
      "metadata": {
        "id": "TK6Yxe3zin8N"
      },
      "source": [
        "#Separating the independent and dependent features\r\n",
        "X = np.asarray(dataset['YearsExperience'].values.tolist()) #Independent feature\r\n",
        "y = np.asarray(dataset['Salary'].values.tolist())          #Dependent feature"
      ],
      "execution_count": 5,
      "outputs": []
    },
    {
      "cell_type": "code",
      "metadata": {
        "id": "iZhxeXCPi8Rd"
      },
      "source": [
        "#Reshaping the Independent and Dependent features\r\n",
        "X = X.reshape(len(X),1)\r\n",
        "y = y.reshape(len(y),1)"
      ],
      "execution_count": 6,
      "outputs": []
    },
    {
      "cell_type": "code",
      "metadata": {
        "id": "0FQ-HVLwSW0D"
      },
      "source": [
        "#Independent Feature Scaling\r\n",
        "X = (X - int(np.mean(X)))/np.std(X)\r\n",
        "\r\n",
        "#Dependent Feature Scaling\r\n",
        "y = (y - int(np.mean(y)))/np.std(y)"
      ],
      "execution_count": 7,
      "outputs": []
    },
    {
      "cell_type": "code",
      "metadata": {
        "id": "WHGaikOGkSYQ"
      },
      "source": [
        "#Adding the feature X0 = 1, so we have the equation: y =  (W1 * X1) + (W0 * X0) \r\n",
        "X = np.concatenate((X,np.ones((30,1))), axis = 1)"
      ],
      "execution_count": 8,
      "outputs": []
    },
    {
      "cell_type": "code",
      "metadata": {
        "colab": {
          "base_uri": "https://localhost:8080/"
        },
        "id": "fNkI1FZ9US_f",
        "outputId": "fd22f007-3d55-470f-b7ea-cf91c771ea20"
      },
      "source": [
        "X"
      ],
      "execution_count": 9,
      "outputs": [
        {
          "output_type": "execute_result",
          "data": {
            "text/plain": [
              "array([[-1.39775469,  1.        ],\n",
              "       [-1.32607497,  1.        ],\n",
              "       [-1.25439524,  1.        ],\n",
              "       [-1.07519592,  1.        ],\n",
              "       [-1.00351619,  1.        ],\n",
              "       [-0.75263714,  1.        ],\n",
              "       [-0.71679728,  1.        ],\n",
              "       [-0.64511755,  1.        ],\n",
              "       [-0.64511755,  1.        ],\n",
              "       [-0.46591823,  1.        ],\n",
              "       [-0.3942385 ,  1.        ],\n",
              "       [-0.35839864,  1.        ],\n",
              "       [-0.35839864,  1.        ],\n",
              "       [-0.32255878,  1.        ],\n",
              "       [-0.17919932,  1.        ],\n",
              "       [-0.03583986,  1.        ],\n",
              "       [ 0.03583986,  1.        ],\n",
              "       [ 0.10751959,  1.        ],\n",
              "       [ 0.32255878,  1.        ],\n",
              "       [ 0.35839864,  1.        ],\n",
              "       [ 0.64511755,  1.        ],\n",
              "       [ 0.75263714,  1.        ],\n",
              "       [ 1.03935606,  1.        ],\n",
              "       [ 1.14687565,  1.        ],\n",
              "       [ 1.32607497,  1.        ],\n",
              "       [ 1.43359456,  1.        ],\n",
              "       [ 1.61279388,  1.        ],\n",
              "       [ 1.64863374,  1.        ],\n",
              "       [ 1.89951279,  1.        ],\n",
              "       [ 1.97119252,  1.        ]])"
            ]
          },
          "metadata": {
            "tags": []
          },
          "execution_count": 9
        }
      ]
    },
    {
      "cell_type": "markdown",
      "metadata": {
        "id": "TEAUmgwclN5d"
      },
      "source": [
        "### Utility Methods"
      ]
    },
    {
      "cell_type": "code",
      "metadata": {
        "id": "sMFw3Ps4IjIY"
      },
      "source": [
        "# The method \"split_data\" splits the given dataset into trainset and testset\r\n",
        "# This is similar to the method \"train_test_split\" from \"sklearn.model_selection\"\r\n",
        "def split_data(X,y,test_size=0.2,random_state=0):\r\n",
        "    np.random.seed(random_state)                  #set the seed for reproducible results\r\n",
        "    indices = np.random.permutation(len(X))       #shuffling the indices\r\n",
        "    data_test_size = int(X.shape[0] * test_size)  #Get the test size\r\n",
        "\r\n",
        "    #Separating the Independent and Dependent features into the Train and Test Set\r\n",
        "    train_indices = indices[data_test_size:]\r\n",
        "    test_indices = indices[:data_test_size]\r\n",
        "    X_train = X[train_indices]\r\n",
        "    y_train = y[train_indices]\r\n",
        "    X_test = X[test_indices]\r\n",
        "    y_test = y[test_indices]\r\n",
        "    return X_train, y_train, X_test, y_test"
      ],
      "execution_count": 10,
      "outputs": []
    },
    {
      "cell_type": "markdown",
      "metadata": {
        "id": "pjKljivClbWf"
      },
      "source": [
        "### Coding the LinearRegression Class"
      ]
    },
    {
      "cell_type": "code",
      "metadata": {
        "id": "mBt41FyrunIl"
      },
      "source": [
        "class linearRegression():\r\n",
        "\r\n",
        "  def __init__(self):\r\n",
        "    #No instance Variables required\r\n",
        "    pass\r\n",
        "\r\n",
        "  def forward(self,X,y,W):\r\n",
        "    \"\"\"\r\n",
        "    Parameters:\r\n",
        "    X (array) : Independent Features\r\n",
        "    y (array) : Dependent Features/ Target Variable\r\n",
        "    W (array) : Weights \r\n",
        "\r\n",
        "    Returns:\r\n",
        "    loss (float) : Calculated Sqaured Error Loss for y and y_pred\r\n",
        "    y_pred (array) : Predicted Target Variable\r\n",
        "    \"\"\"\r\n",
        "    y_pred = sum(W * X)\r\n",
        "    loss = ((y_pred-y)**2)/2    #Loss = Squared Error, we introduce 1/2 for ease in the calculation\r\n",
        "    return loss, y_pred\r\n",
        "\r\n",
        "  def updateWeights(self,X,y_pred,y_true,W,alpha,index):\r\n",
        "    \"\"\"\r\n",
        "    Parameters:\r\n",
        "    X (array) : Independent Features\r\n",
        "    y_pred (array) : Predicted Target Variable\r\n",
        "    y_true (array) : Dependent Features/ Target Variable\r\n",
        "    W (array) : Weights\r\n",
        "    alpha (float) : learning rate\r\n",
        "    index (int) : Index to fetch the corresponding values of W, X and y \r\n",
        "\r\n",
        "    Returns:\r\n",
        "    W (array) : Update Values of Weight\r\n",
        "    \"\"\"\r\n",
        "    for i in range(X.shape[1]):\r\n",
        "      #alpha = learning rate, rest of the RHS is derivative of loss function\r\n",
        "      W[index][i] -= (alpha * (y_pred-y_true[index])*X[index][i]) \r\n",
        "    return W[index]\r\n",
        "\r\n",
        "  def train(self, X, y, epochs=10, alpha=0.001, random_state=0):\r\n",
        "    \"\"\"\r\n",
        "    Parameters:\r\n",
        "    X (array) : Independent Feature\r\n",
        "    y (array) : Dependent Features/ Target Variable\r\n",
        "    epochs (int) : Number of epochs for training, default value is 10\r\n",
        "    alpha (float) : learning rate, default value is 0.001\r\n",
        "\r\n",
        "    Returns:\r\n",
        "    y_pred (array) : Predicted Target Variable\r\n",
        "    loss (float) : Calculated Sqaured Error Loss for y and y_pred\r\n",
        "    \"\"\"\r\n",
        "\r\n",
        "    num_rows = X.shape[0] #Number of Rows\r\n",
        "    num_cols = X.shape[1] #Number of Columns \r\n",
        "    W = np.random.randn(num_rows,num_cols) / np.sqrt(num_rows) #Weight Initialization\r\n",
        "\r\n",
        "    #Calculating Loss and Updating Weights\r\n",
        "    train_loss = []\r\n",
        "    num_epochs = []\r\n",
        "    train_indices = [i for i in range(X.shape[0])]\r\n",
        "    for j in range(epochs):\r\n",
        "      cost=0\r\n",
        "      np.random.seed(random_state)\r\n",
        "      np.random.shuffle(train_indices)\r\n",
        "      for i in train_indices:\r\n",
        "        loss, y_pred = self.forward(X[i],y[i],W[i])\r\n",
        "        cost+=loss\r\n",
        "        W[i] = self.updateWeights(X,y_pred,y,W,alpha,i)\r\n",
        "      train_loss.append(cost)\r\n",
        "      num_epochs.append(j)\r\n",
        "    return W, train_loss, num_epochs\r\n",
        "\r\n",
        "  def test(self, X_test, y_test, W_trained):\r\n",
        "    \"\"\"\r\n",
        "    Parameters:\r\n",
        "    X_test (array) : Independent Features from the Test Set\r\n",
        "    y_test (array) : Dependent Features/ Target Variable from the Test Set\r\n",
        "    W_trained (array) : Trained Weights\r\n",
        "    test_indices (list) : Index to fetch the corresponding values of W_trained,\r\n",
        "                          X_test and y_test \r\n",
        "\r\n",
        "    Returns:\r\n",
        "    test_pred (list) : Predicted Target Variable\r\n",
        "    test_loss (list) : Calculated Sqaured Error Loss for y and y_pred\r\n",
        "    \"\"\"\r\n",
        "    test_pred = []\r\n",
        "    test_loss = []\r\n",
        "    test_indices = [i for i in range(X_test.shape[0])]\r\n",
        "    for i in test_indices:\r\n",
        "        loss, y_test_pred = self.forward(X_test[i], W_trained[i], y_test[i])\r\n",
        "        test_pred.append(y_test_pred)\r\n",
        "        test_loss.append(sum(loss))\r\n",
        "    return test_pred, test_loss\r\n",
        "    \r\n",
        "\r\n",
        "  \r\n",
        "  def plotLoss(self, loss, epochs):\r\n",
        "    \"\"\"\r\n",
        "    Parameters:\r\n",
        "    loss (list) : Calculated Sqaured Error Loss for y and y_pred\r\n",
        "    epochs (list): Number of Epochs\r\n",
        "\r\n",
        "    Returns: None\r\n",
        "    Plots a graph of Loss vs Epochs\r\n",
        "    \"\"\"\r\n",
        "    plt.plot(epochs, loss)\r\n",
        "    plt.xlabel('Number of Epochs')\r\n",
        "    plt.ylabel('Loss')\r\n",
        "    plt.title('Plot Loss')\r\n",
        "    plt.show()\r\n",
        "  \r\n"
      ],
      "execution_count": 11,
      "outputs": []
    },
    {
      "cell_type": "markdown",
      "metadata": {
        "id": "KL3sFhd5sJ85"
      },
      "source": [
        "### Performing Linear Regression"
      ]
    },
    {
      "cell_type": "code",
      "metadata": {
        "id": "SeUC0VYImNlQ"
      },
      "source": [
        "#Splitting the dataset\r\n",
        "X_train, y_train, X_test, y_test = split_data(X,y)"
      ],
      "execution_count": 12,
      "outputs": []
    },
    {
      "cell_type": "code",
      "metadata": {
        "id": "2UU50V05mRoN"
      },
      "source": [
        "#declaring the \"regressor\" as an object of the class LinearRegression\r\n",
        "regressor = linearRegression()"
      ],
      "execution_count": 13,
      "outputs": []
    },
    {
      "cell_type": "code",
      "metadata": {
        "id": "5wLjNkQnusqh"
      },
      "source": [
        "#Training \r\n",
        "W_trained, train_loss, num_epochs = regressor.train(X_train, y_train, epochs=1000, alpha=0.001)"
      ],
      "execution_count": 14,
      "outputs": []
    },
    {
      "cell_type": "code",
      "metadata": {
        "id": "_JQSySiyxJ4n"
      },
      "source": [
        "#Testing on the Test Dataset\r\n",
        "test_pred, test_loss = regressor.test(X_test, y_test, W_trained)"
      ],
      "execution_count": 15,
      "outputs": []
    },
    {
      "cell_type": "markdown",
      "metadata": {
        "id": "LbXBW88kpjmN"
      },
      "source": [
        "### Visualizing Results"
      ]
    },
    {
      "cell_type": "code",
      "metadata": {
        "colab": {
          "base_uri": "https://localhost:8080/",
          "height": 295
        },
        "id": "z80Vq2Y0wZMa",
        "outputId": "fa3c0c41-2884-4729-a71d-882c7e340eb3"
      },
      "source": [
        "#Plot the Train Loss\r\n",
        "regressor.plotLoss(train_loss, num_epochs)"
      ],
      "execution_count": 16,
      "outputs": [
        {
          "output_type": "display_data",
          "data": {
            "image/png": "[encoded data removed]",
            "text/plain": [
              "<Figure size 432x288 with 1 Axes>"
            ]
          },
          "metadata": {
            "tags": [],
            "needs_background": "light"
          }
        }
      ]
    },
    {
      "cell_type": "markdown",
      "metadata": {
        "id": "v7qN5ze_nCaU"
      },
      "source": [
        "## Linear Regression using Sklearn"
      ]
    },
    {
      "cell_type": "markdown",
      "metadata": {
        "id": "5qzeCvuHnUkd"
      },
      "source": [
        "### Importing dependencies"
      ]
    },
    {
      "cell_type": "code",
      "metadata": {
        "id": "WxTLPi00nPlR"
      },
      "source": [
        "import pandas\r\n",
        "import matplotlib.pyplot as plt \r\n",
        "from sklearn.model_selection import train_test_split\r\n",
        "from sklearn.linear_model import LinearRegression\r\n",
        "from sklearn.metrics import mean_absolute_error"
      ],
      "execution_count": 17,
      "outputs": []
    },
    {
      "cell_type": "markdown",
      "metadata": {
        "id": "6n4bZLnyoRBF"
      },
      "source": [
        "### Data Preprocessing"
      ]
    },
    {
      "cell_type": "code",
      "metadata": {
        "id": "9RVobIAMoUJP"
      },
      "source": [
        "dataset_sk = pd.read_csv('Salary_Data.csv')\r\n",
        "X_sk = dataset_sk.iloc[:, :-1].values\r\n",
        "y_sk = dataset_sk.iloc[:, 1].values"
      ],
      "execution_count": 18,
      "outputs": []
    },
    {
      "cell_type": "code",
      "metadata": {
        "id": "y2SAKXOUo07O"
      },
      "source": [
        "# Splitting the dataset into the Training set and Test set\r\n",
        "X_train_sk, X_test_sk, y_train_sk, y_test_sk = train_test_split(X_sk, y_sk, test_size = 0.2, random_state = 0)"
      ],
      "execution_count": 19,
      "outputs": []
    },
    {
      "cell_type": "markdown",
      "metadata": {
        "id": "HHBdiwMyo8c0"
      },
      "source": [
        "### Performing the Linear Regression"
      ]
    },
    {
      "cell_type": "code",
      "metadata": {
        "id": "M_ZxKwyzpAuo",
        "colab": {
          "base_uri": "https://localhost:8080/"
        },
        "outputId": "9db1b56e-58cf-4cb6-a018-6464038d0b89"
      },
      "source": [
        "# Fitting Simple Linear Regression to the Training set\r\n",
        "regressor_sk = LinearRegression()\r\n",
        "regressor_sk.fit(X_train_sk, y_train_sk)"
      ],
      "execution_count": 20,
      "outputs": [
        {
          "output_type": "execute_result",
          "data": {
            "text/plain": [
              "LinearRegression(copy_X=True, fit_intercept=True, n_jobs=None, normalize=False)"
            ]
          },
          "metadata": {
            "tags": []
          },
          "execution_count": 20
        }
      ]
    },
    {
      "cell_type": "code",
      "metadata": {
        "id": "KPHHkldApF7t"
      },
      "source": [
        "# Predicting the Test set results\r\n",
        "y_pred = regressor_sk.predict(X_test_sk)"
      ],
      "execution_count": 21,
      "outputs": []
    },
    {
      "cell_type": "markdown",
      "metadata": {
        "id": "UBwNhupdpwAt"
      },
      "source": [
        "### Visualizing the Results"
      ]
    },
    {
      "cell_type": "code",
      "metadata": {
        "id": "boFOQFC3pGdF",
        "colab": {
          "base_uri": "https://localhost:8080/",
          "height": 295
        },
        "outputId": "dcdde45e-7b41-43e6-8ea0-44e200e70e5b"
      },
      "source": [
        "# Visualising the Training set results\r\n",
        "plt.scatter(X_train_sk, y_train_sk, color = 'red')\r\n",
        "plt.plot(X_train_sk, regressor_sk.predict(X_train_sk), color = 'blue')\r\n",
        "plt.title('Salary vs Experience (Training set)')\r\n",
        "plt.xlabel('Years of Experience')\r\n",
        "plt.ylabel('Salary')\r\n",
        "plt.show()"
      ],
      "execution_count": 22,
      "outputs": [
        {
          "output_type": "display_data",
          "data": {
            "image/png": "[encoded data removed]",
            "text/plain": [
              "<Figure size 432x288 with 1 Axes>"
            ]
          },
          "metadata": {
            "tags": [],
            "needs_background": "light"
          }
        }
      ]
    },
    {
      "cell_type": "code",
      "metadata": {
        "id": "bT-ftLGbpSZW",
        "colab": {
          "base_uri": "https://localhost:8080/",
          "height": 295
        },
        "outputId": "af11a18f-ed5c-437f-e443-c1c6a2798524"
      },
      "source": [
        "# Visualising the Test set results\r\n",
        "plt.scatter(X_test_sk, y_test_sk, color = 'red')\r\n",
        "plt.plot(X_train_sk, regressor_sk.predict(X_train_sk), color = 'blue')\r\n",
        "plt.title('Salary vs Experience (Test set)')\r\n",
        "plt.xlabel('Years of Experience')\r\n",
        "plt.ylabel('Salary')\r\n",
        "plt.show()"
      ],
      "execution_count": 23,
      "outputs": [
        {
          "output_type": "display_data",
          "data": {
            "image/png": "[encoded data removed]",
            "text/plain": [
              "<Figure size 432x288 with 1 Axes>"
            ]
          },
          "metadata": {
            "tags": [],
            "needs_background": "light"
          }
        }
      ]
    },
    {
      "cell_type": "markdown",
      "metadata": {
        "id": "6XtnJj4e2vCf"
      },
      "source": [
        "## Comparing the Two Regressors"
      ]
    },
    {
      "cell_type": "code",
      "metadata": {
        "id": "vV6z-Kao0nxZ",
        "colab": {
          "base_uri": "https://localhost:8080/"
        },
        "outputId": "e45b7b7f-ffaa-411b-fb90-6472f0e72b8d"
      },
      "source": [
        "# MAE when the Sklearn Regressor is used\r\n",
        "mean_absolute_error(y_test_sk,regressor_sk.predict(X_test_sk))"
      ],
      "execution_count": 24,
      "outputs": [
        {
          "output_type": "execute_result",
          "data": {
            "text/plain": [
              "2446.1723690465055"
            ]
          },
          "metadata": {
            "tags": []
          },
          "execution_count": 24
        }
      ]
    },
    {
      "cell_type": "code",
      "metadata": {
        "id": "b_CvzMqP2fHR",
        "colab": {
          "base_uri": "https://localhost:8080/"
        },
        "outputId": "8edb9838-923f-43de-88e0-b0c09e4babf2"
      },
      "source": [
        "# MAE when the Scratch Implementation Regressor is used\r\n",
        "mean_absolute_error(y_test,test_pred)"
      ],
      "execution_count": 25,
      "outputs": [
        {
          "output_type": "execute_result",
          "data": {
            "text/plain": [
              "1.5932558052100416"
            ]
          },
          "metadata": {
            "tags": []
          },
          "execution_count": 25
        }
      ]
    },
    {
      "cell_type": "markdown",
      "metadata": {
        "id": "-cdYj7q_eNl2"
      },
      "source": [
        "There can be various reasons behind these results like choice of loss function, Optimization Algorithm used, etc. However, the prime goal of this notebook was to demonstrate the implementation of Simple Linear Regression and not to perform better than Sklearn. \r\n",
        "\r\n",
        "Definitely, you can download this notebook and change hyperparameters, Optimization Algorithm, etc. and try to start your Machine Learning Journey.\r\n",
        "\r\n"
      ]
    }
  ]
}