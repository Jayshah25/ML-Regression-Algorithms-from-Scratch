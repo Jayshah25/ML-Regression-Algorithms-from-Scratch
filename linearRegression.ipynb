{
  "nbformat": 4,
  "nbformat_minor": 0,
  "metadata": {
    "colab": {
      "name": "linearRegression.ipynb",
      "provenance": [],
      "collapsed_sections": [],
      "toc_visible": true
    },
    "kernelspec": {
      "name": "python3",
      "display_name": "Python 3"
    }
  },
  "cells": [
    {
      "cell_type": "markdown",
      "metadata": {
        "id": "MF47DSPemrnX"
      },
      "source": [
        "# ML Regression Algorithms from Scratch - Linear Regression "
      ]
    },
    {
      "cell_type": "markdown",
      "metadata": {
        "id": "bGjv_UdtP999"
      },
      "source": [
        "## Introduction"
      ]
    },
    {
      "cell_type": "markdown",
      "metadata": {
        "id": "klk23LsZQC0M"
      },
      "source": [
        "In this notebook, first, we implement Linear Regression from Scratch using Numpy without Sklearn. After the scratch implementation, we also implement the Linear Regression using Sklearn and compare the two models. The complete code is written and executed in Google Colab. No need of installing any additional packages is required. Download this notebook and upload to Google Colab to run it by yourself. Don't forget to grab your Datasets! \r\n",
        "\r\n",
        "The Dataset used here is the **Salary_Data** dataset provided by the Super Data Science Team under their programme **Machine Learning A-Z: Hands on Python & R in Data Science**. Find the various datasets provided by them [here](https://www.superdatascience.com/pages/machine-learning).\r\n",
        "\r\n",
        "**Response Variable** - Years of Experience\r\n",
        "\r\n",
        "**Target Variable** - Salary\r\n",
        "\r\n",
        "**Equation Used** - y = W1 * X1 + W0 * X0\r\n",
        "\r\n",
        "**For Scratch Implementation:**\r\n",
        "    \r\n",
        "    Loss Function : Mean Squared Error\r\n",
        "\r\n",
        "    Optimization Algorithm : SGD\r\n",
        "\r\n",
        "    Weight Initialization : Xavier Initialization\r\n",
        "\r\n"
      ]
    },
    {
      "cell_type": "markdown",
      "metadata": {
        "id": "saI5S98Fkvx8"
      },
      "source": [
        "## Linear Regression from Scratch without SKlearn"
      ]
    },
    {
      "cell_type": "markdown",
      "metadata": {
        "id": "DXvL5a1RlAzE"
      },
      "source": [
        "### Importing the Dependencies"
      ]
    },
    {
      "cell_type": "code",
      "metadata": {
        "id": "GXI1413Foust"
      },
      "source": [
        "#importing the required packages\r\n",
        "import numpy as np\r\n",
        "import pandas as pd\r\n",
        "import matplotlib.pyplot as plt"
      ],
      "execution_count": 1,
      "outputs": []
    },
    {
      "cell_type": "code",
      "metadata": {
        "id": "r-N2v41Hfqdw"
      },
      "source": [
        "!cp /content/drive/MyDrive/Salary_Data.csv /content"
      ],
      "execution_count": 2,
      "outputs": []
    },
    {
      "cell_type": "markdown",
      "metadata": {
        "id": "s0J-6GLhlFxE"
      },
      "source": [
        "### Get the Data and Data Preprocessing"
      ]
    },
    {
      "cell_type": "code",
      "metadata": {
        "id": "Kr3QiE8Jf3Pa"
      },
      "source": [
        "#Get the dataset\r\n",
        "dataset = pd.read_csv(r'/content/Salary_Data.csv')"
      ],
      "execution_count": 3,
      "outputs": []
    },
    {
      "cell_type": "code",
      "metadata": {
        "colab": {
          "base_uri": "https://localhost:8080/",
          "height": 195
        },
        "id": "y8hHhyM1BuIb",
        "outputId": "92156990-276a-41e0-ef30-ef72f1bd0a21"
      },
      "source": [
        "#Get a glimpse of the Dataset\r\n",
        "dataset.head()"
      ],
      "execution_count": 4,
      "outputs": [
        {
          "output_type": "execute_result",
          "data": {
            "text/html": [
              "<div>\n",
              "<style scoped>\n",
              "    .dataframe tbody tr th:only-of-type {\n",
              "        vertical-align: middle;\n",
              "    }\n",
              "\n",
              "    .dataframe tbody tr th {\n",
              "        vertical-align: top;\n",
              "    }\n",
              "\n",
              "    .dataframe thead th {\n",
              "        text-align: right;\n",
              "    }\n",
              "</style>\n",
              "<table border=\"1\" class=\"dataframe\">\n",
              "  <thead>\n",
              "    <tr style=\"text-align: right;\">\n",
              "      <th></th>\n",
              "      <th>YearsExperience</th>\n",
              "      <th>Salary</th>\n",
              "    </tr>\n",
              "  </thead>\n",
              "  <tbody>\n",
              "    <tr>\n",
              "      <th>0</th>\n",
              "      <td>1.1</td>\n",
              "      <td>39343.0</td>\n",
              "    </tr>\n",
              "    <tr>\n",
              "      <th>1</th>\n",
              "      <td>1.3</td>\n",
              "      <td>46205.0</td>\n",
              "    </tr>\n",
              "    <tr>\n",
              "      <th>2</th>\n",
              "      <td>1.5</td>\n",
              "      <td>37731.0</td>\n",
              "    </tr>\n",
              "    <tr>\n",
              "      <th>3</th>\n",
              "      <td>2.0</td>\n",
              "      <td>43525.0</td>\n",
              "    </tr>\n",
              "    <tr>\n",
              "      <th>4</th>\n",
              "      <td>2.2</td>\n",
              "      <td>39891.0</td>\n",
              "    </tr>\n",
              "  </tbody>\n",
              "</table>\n",
              "</div>"
            ],
            "text/plain": [
              "   YearsExperience   Salary\n",
              "0              1.1  39343.0\n",
              "1              1.3  46205.0\n",
              "2              1.5  37731.0\n",
              "3              2.0  43525.0\n",
              "4              2.2  39891.0"
            ]
          },
          "metadata": {
            "tags": []
          },
          "execution_count": 4
        }
      ]
    },
    {
      "cell_type": "code",
      "metadata": {
        "id": "TK6Yxe3zin8N"
      },
      "source": [
        "#Separating the independent and dependent features\r\n",
        "X = np.asarray(dataset['YearsExperience'].values.tolist()) #Independent feature\r\n",
        "y = np.asarray(dataset['Salary'].values.tolist())          #Dependent feature"
      ],
      "execution_count": 5,
      "outputs": []
    },
    {
      "cell_type": "code",
      "metadata": {
        "id": "iZhxeXCPi8Rd"
      },
      "source": [
        "#Reshaping the Independent and Dependent features\r\n",
        "X = X.reshape(len(X),1)\r\n",
        "y = y.reshape(len(y),1)"
      ],
      "execution_count": 6,
      "outputs": []
    },
    {
      "cell_type": "code",
      "metadata": {
        "id": "0FQ-HVLwSW0D"
      },
      "source": [
        "#Independent Feature Scaling\r\n",
        "X = (X - int(np.mean(X)))/np.std(X)\r\n",
        "\r\n",
        "#Dependent Feature Scaling\r\n",
        "y = (y - int(np.mean(y)))/np.std(y)"
      ],
      "execution_count": 7,
      "outputs": []
    },
    {
      "cell_type": "code",
      "metadata": {
        "id": "WHGaikOGkSYQ"
      },
      "source": [
        "#Adding the feature X0 = 1, so we have the equation: y =  (W1 * X1) + (W0 * X0) \r\n",
        "X = np.concatenate((X,np.ones((30,1))), axis = 1)"
      ],
      "execution_count": 8,
      "outputs": []
    },
    {
      "cell_type": "code",
      "metadata": {
        "colab": {
          "base_uri": "https://localhost:8080/"
        },
        "id": "fNkI1FZ9US_f",
        "outputId": "5d80b014-d503-464a-b599-0602d0320c83"
      },
      "source": [
        "X"
      ],
      "execution_count": 9,
      "outputs": [
        {
          "output_type": "execute_result",
          "data": {
            "text/plain": [
              "array([[-1.39775469,  1.        ],\n",
              "       [-1.32607497,  1.        ],\n",
              "       [-1.25439524,  1.        ],\n",
              "       [-1.07519592,  1.        ],\n",
              "       [-1.00351619,  1.        ],\n",
              "       [-0.75263714,  1.        ],\n",
              "       [-0.71679728,  1.        ],\n",
              "       [-0.64511755,  1.        ],\n",
              "       [-0.64511755,  1.        ],\n",
              "       [-0.46591823,  1.        ],\n",
              "       [-0.3942385 ,  1.        ],\n",
              "       [-0.35839864,  1.        ],\n",
              "       [-0.35839864,  1.        ],\n",
              "       [-0.32255878,  1.        ],\n",
              "       [-0.17919932,  1.        ],\n",
              "       [-0.03583986,  1.        ],\n",
              "       [ 0.03583986,  1.        ],\n",
              "       [ 0.10751959,  1.        ],\n",
              "       [ 0.32255878,  1.        ],\n",
              "       [ 0.35839864,  1.        ],\n",
              "       [ 0.64511755,  1.        ],\n",
              "       [ 0.75263714,  1.        ],\n",
              "       [ 1.03935606,  1.        ],\n",
              "       [ 1.14687565,  1.        ],\n",
              "       [ 1.32607497,  1.        ],\n",
              "       [ 1.43359456,  1.        ],\n",
              "       [ 1.61279388,  1.        ],\n",
              "       [ 1.64863374,  1.        ],\n",
              "       [ 1.89951279,  1.        ],\n",
              "       [ 1.97119252,  1.        ]])"
            ]
          },
          "metadata": {
            "tags": []
          },
          "execution_count": 9
        }
      ]
    },
    {
      "cell_type": "markdown",
      "metadata": {
        "id": "TEAUmgwclN5d"
      },
      "source": [
        "### Utility Methods"
      ]
    },
    {
      "cell_type": "code",
      "metadata": {
        "id": "sMFw3Ps4IjIY"
      },
      "source": [
        "# The method \"split_data\" splits the given dataset into trainset and testset\r\n",
        "# This is similar to the method \"train_test_split\" from \"sklearn.model_selection\"\r\n",
        "def split_data(X,y,test_size=0.2,random_state=0):\r\n",
        "    np.random.seed(random_state)                  #set the seed for reproducible results\r\n",
        "    indices = np.random.permutation(len(X))       #shuffling the indices\r\n",
        "    data_test_size = int(X.shape[0] * test_size)  #Get the test size\r\n",
        "\r\n",
        "    #Separating the Independent and Dependent features into the Train and Test Set\r\n",
        "    train_indices = indices[data_test_size:]\r\n",
        "    test_indices = indices[:data_test_size]\r\n",
        "    X_train = X[train_indices]\r\n",
        "    y_train = y[train_indices]\r\n",
        "    X_test = X[test_indices]\r\n",
        "    y_test = y[test_indices]\r\n",
        "    return X_train, y_train, X_test, y_test"
      ],
      "execution_count": 10,
      "outputs": []
    },
    {
      "cell_type": "markdown",
      "metadata": {
        "id": "pjKljivClbWf"
      },
      "source": [
        "### Coding the LinearRegression Class"
      ]
    },
    {
      "cell_type": "code",
      "metadata": {
        "id": "mBt41FyrunIl"
      },
      "source": [
        "class linearRegression():\r\n",
        "\r\n",
        "  def __init__(self):\r\n",
        "    #No instance Variables required\r\n",
        "    pass\r\n",
        "\r\n",
        "  def forward(self,X,y,W):\r\n",
        "    \"\"\"\r\n",
        "    Parameters:\r\n",
        "    X (array) : Independent Features\r\n",
        "    y (array) : Dependent Features/ Target Variable\r\n",
        "    W (array) : Weights \r\n",
        "\r\n",
        "    Returns:\r\n",
        "    loss (float) : Calculated Sqaured Error Loss for y and y_pred\r\n",
        "    y_pred (array) : Predicted Target Variable\r\n",
        "    \"\"\"\r\n",
        "    y_pred = sum(W * X)\r\n",
        "    loss = ((y_pred-y)**2)/2    #Loss = Squared Error, we introduce 1/2 for ease in the calculation\r\n",
        "    return loss, y_pred\r\n",
        "\r\n",
        "  def updateWeights(self,X,y_pred,y_true,W,alpha,index):\r\n",
        "    \"\"\"\r\n",
        "    Parameters:\r\n",
        "    X (array) : Independent Features\r\n",
        "    y_pred (array) : Predicted Target Variable\r\n",
        "    y_true (array) : Dependent Features/ Target Variable\r\n",
        "    W (array) : Weights\r\n",
        "    alpha (float) : learning rate\r\n",
        "    index (int) : Index to fetch the corresponding values of W, X and y \r\n",
        "\r\n",
        "    Returns:\r\n",
        "    W (array) : Update Values of Weight\r\n",
        "    \"\"\"\r\n",
        "    for i in range(X.shape[1]):\r\n",
        "      #alpha = learning rate, rest of the RHS is derivative of loss function\r\n",
        "      W[i] -= (alpha * (y_pred-y_true[index])*X[index][i]) \r\n",
        "    return W\r\n",
        "\r\n",
        "  def train(self, X, y, epochs=10, alpha=0.001, random_state=0):\r\n",
        "    \"\"\"\r\n",
        "    Parameters:\r\n",
        "    X (array) : Independent Feature\r\n",
        "    y (array) : Dependent Features/ Target Variable\r\n",
        "    epochs (int) : Number of epochs for training, default value is 10\r\n",
        "    alpha (float) : learning rate, default value is 0.001\r\n",
        "\r\n",
        "    Returns:\r\n",
        "    y_pred (array) : Predicted Target Variable\r\n",
        "    loss (float) : Calculated Sqaured Error Loss for y and y_pred\r\n",
        "    \"\"\"\r\n",
        "\r\n",
        "    num_rows = X.shape[0] #Number of Rows\r\n",
        "    num_cols = X.shape[1] #Number of Columns \r\n",
        "    W = np.random.randn(1,num_cols) / np.sqrt(num_rows) #Weight Initialization\r\n",
        "\r\n",
        "    #Calculating Loss and Updating Weights\r\n",
        "    train_loss = []\r\n",
        "    num_epochs = []\r\n",
        "    train_indices = [i for i in range(X.shape[0])]\r\n",
        "    for j in range(epochs):\r\n",
        "      cost=0\r\n",
        "      np.random.seed(random_state)\r\n",
        "      np.random.shuffle(train_indices)\r\n",
        "      for i in train_indices:\r\n",
        "        loss, y_pred = self.forward(X[i],y[i],W[0])\r\n",
        "        cost+=loss\r\n",
        "        W[0] = self.updateWeights(X,y_pred,y,W[0],alpha,i)\r\n",
        "      train_loss.append(cost)\r\n",
        "      num_epochs.append(j)\r\n",
        "    return W[0], train_loss, num_epochs\r\n",
        "\r\n",
        "  def test(self, X_test, y_test, W_trained):\r\n",
        "    \"\"\"\r\n",
        "    Parameters:\r\n",
        "    X_test (array) : Independent Features from the Test Set\r\n",
        "    y_test (array) : Dependent Features/ Target Variable from the Test Set\r\n",
        "    W_trained (array) : Trained Weights\r\n",
        "    test_indices (list) : Index to fetch the corresponding values of W_trained,\r\n",
        "                          X_test and y_test \r\n",
        "\r\n",
        "    Returns:\r\n",
        "    test_pred (list) : Predicted Target Variable\r\n",
        "    test_loss (list) : Calculated Sqaured Error Loss for y and y_pred\r\n",
        "    \"\"\"\r\n",
        "    test_pred = []\r\n",
        "    test_loss = []\r\n",
        "    test_indices = [i for i in range(X_test.shape[0])]\r\n",
        "    for i in test_indices:\r\n",
        "        loss, y_test_pred = self.forward(X_test[i], W_trained, y_test[i])\r\n",
        "        test_pred.append(y_test_pred)\r\n",
        "        test_loss.append(loss)\r\n",
        "    return test_pred, test_loss\r\n",
        "    \r\n",
        "\r\n",
        "  def plotLoss(self, loss, epochs):\r\n",
        "    \"\"\"\r\n",
        "    Parameters:\r\n",
        "    loss (list) : Calculated Sqaured Error Loss for y and y_pred\r\n",
        "    epochs (list): Number of Epochs\r\n",
        "\r\n",
        "    Returns: None\r\n",
        "    Plots a graph of Loss vs Epochs\r\n",
        "    \"\"\"\r\n",
        "    plt.plot(epochs, loss)\r\n",
        "    plt.xlabel('Number of Epochs')\r\n",
        "    plt.ylabel('Loss')\r\n",
        "    plt.title('Plot Loss')\r\n",
        "    plt.show()\r\n",
        "  \r\n"
      ],
      "execution_count": 11,
      "outputs": []
    },
    {
      "cell_type": "markdown",
      "metadata": {
        "id": "KL3sFhd5sJ85"
      },
      "source": [
        "### Performing Linear Regression"
      ]
    },
    {
      "cell_type": "code",
      "metadata": {
        "id": "SeUC0VYImNlQ"
      },
      "source": [
        "#Splitting the dataset\r\n",
        "X_train, y_train, X_test, y_test = split_data(X,y)"
      ],
      "execution_count": 12,
      "outputs": []
    },
    {
      "cell_type": "code",
      "metadata": {
        "id": "2UU50V05mRoN"
      },
      "source": [
        "#declaring the \"regressor\" as an object of the class LinearRegression\r\n",
        "regressor = linearRegression()"
      ],
      "execution_count": 13,
      "outputs": []
    },
    {
      "cell_type": "code",
      "metadata": {
        "id": "5wLjNkQnusqh"
      },
      "source": [
        "#Training \r\n",
        "W_trained, train_loss, num_epochs = regressor.train(X_train, y_train, epochs=1000, alpha=0.0001)"
      ],
      "execution_count": 14,
      "outputs": []
    },
    {
      "cell_type": "code",
      "metadata": {
        "id": "_JQSySiyxJ4n"
      },
      "source": [
        "#Testing on the Test Dataset\r\n",
        "test_pred, test_loss = regressor.test(X_test, y_test, W_trained)"
      ],
      "execution_count": 15,
      "outputs": []
    },
    {
      "cell_type": "markdown",
      "metadata": {
        "id": "LbXBW88kpjmN"
      },
      "source": [
        "### Visualizing Results"
      ]
    },
    {
      "cell_type": "code",
      "metadata": {
        "colab": {
          "base_uri": "https://localhost:8080/",
          "height": 295
        },
        "id": "z80Vq2Y0wZMa",
        "outputId": "e82e643f-3f22-46b3-bdb2-1d8679ed3ee9"
      },
      "source": [
        "#Plot the Train Loss\r\n",
        "regressor.plotLoss(train_loss, num_epochs)"
      ],
      "execution_count": 16,
      "outputs": [
        {
          "output_type": "display_data",
          "data": {
            "image/png": "[encoded data removed]",
            "text/plain": [
              "<Figure size 432x288 with 1 Axes>"
            ]
          },
          "metadata": {
            "tags": [],
            "needs_background": "light"
          }
        }
      ]
    },
    {
      "cell_type": "code",
      "metadata": {
        "colab": {
          "base_uri": "https://localhost:8080/"
        },
        "id": "gfe9kMB1-8cm",
        "outputId": "4ce0705a-f870-485a-c566-9985d35ea246"
      },
      "source": [
        "#The Training Loss\r\n",
        "print(train_loss)"
      ],
      "execution_count": 17,
      "outputs": [
        {
          "output_type": "stream",
          "text": [
            "[array([5.32063012]), array([5.30129018]), array([5.28203017]), array([5.26284936]), array([5.24374632]), array([5.2247226]), array([5.2057764]), array([5.18690708]), array([5.16811479]), array([5.14939939]), array([5.13076127]), array([5.11219968]), array([5.09371339]), array([5.0753032]), array([5.0569683]), array([5.03870861]), array([5.02052338]), array([5.00241327]), array([4.98437733]), array([4.96641467]), array([4.94852565]), array([4.93070998]), array([4.91296653]), array([4.89529644]), array([4.87769824]), array([4.86017192]), array([4.84271804]), array([4.82533597]), array([4.80802434]), array([4.79078462]), array([4.77361515]), array([4.75651531]), array([4.73948527]), array([4.72252492]), array([4.70563461]), array([4.68881368]), array([4.67206096]), array([4.65537719]), array([4.63876168]), array([4.62221432]), array([4.60573441]), array([4.58932264]), array([4.57297805]), array([4.55669986]), array([4.54048841]), array([4.52434342]), array([4.50826386]), array([4.4922508]), array([4.47630287]), array([4.46042008]), array([4.44460296]), array([4.42885093]), array([4.41316272]), array([4.39753969]), array([4.38198033]), array([4.36648403]), array([4.35105097]), array([4.33568109]), array([4.32037468]), array([4.30513117]), array([4.28994944]), array([4.2748302]), array([4.25977283]), array([4.24477721]), array([4.22984271]), array([4.21496999]), array([4.20015814]), array([4.18540645]), array([4.17071525]), array([4.15608426]), array([4.14151256]), array([4.12700113]), array([4.11254871]), array([4.09815533]), array([4.08382147]), array([4.06954662]), array([4.05532957]), array([4.04117163]), array([4.02707138]), array([4.01302824]), array([3.9990424]), array([3.98511382]), array([3.97124277]), array([3.95742876]), array([3.9436707]), array([3.92996926]), array([3.91632391]), array([3.90273451]), array([3.88920049]), array([3.87572249]), array([3.86229965]), array([3.84893129]), array([3.83561777]), array([3.82235881]), array([3.80915356]), array([3.79600294]), array([3.78290578]), array([3.76986212]), array([3.75687243]), array([3.74393623]), array([3.73105239]), array([3.71822213]), array([3.70544416]), array([3.69271791]), array([3.68004356]), array([3.66742114]), array([3.65485084]), array([3.64233226]), array([3.62986435]), array([3.61744776]), array([3.60508201]), array([3.59276695]), array([3.58050208]), array([3.568288]), array([3.55612391]), array([3.54400917]), array([3.53194412]), array([3.51992852]), array([3.50796157]), array([3.49604415]), array([3.48417516]), array([3.47235466]), array([3.46058307]), array([3.44885998]), array([3.43718432]), array([3.42555723]), array([3.41397754]), array([3.40244468]), array([3.39095885]), array([3.37952008]), array([3.36812855]), array([3.35678392]), array([3.34548518]), array([3.33423294]), array([3.32302679]), array([3.31186658]), array([3.30075183]), array([3.28968314]), array([3.27865975]), array([3.26768106]), array([3.25674742]), array([3.24585857]), array([3.23501381]), array([3.22421394]), array([3.21345793]), array([3.20274588]), array([3.19207817]), array([3.18145443]), array([3.17087364]), array([3.1603369]), array([3.14984311]), array([3.13939172]), array([3.12898295]), array([3.11861683]), array([3.10829353]), array([3.09801276]), array([3.08777354]), array([3.07757648]), array([3.06742118]), array([3.0573075]), array([3.04723502]), array([3.03720432]), array([3.02721465]), array([3.01726548]), array([3.00735714]), array([2.99748938]), array([2.98766156]), array([2.97787444]), array([2.96812705]), array([2.9584195]), array([2.94875215]), array([2.93912466]), array([2.92953608]), array([2.91998742]), array([2.9104777]), array([2.90100637]), array([2.89157365]), array([2.8821796]), array([2.87282435]), array([2.86350767]), array([2.85422862]), array([2.84498777]), array([2.83578478]), array([2.8266195]), array([2.81749155]), array([2.80840149]), array([2.7993486]), array([2.7903324]), array([2.78135321]), array([2.77241079]), array([2.76350454]), array([2.7546352]), array([2.74580184]), array([2.7370046]), array([2.72824379]), array([2.71951913]), array([2.7108297]), array([2.70217648]), array([2.69355853]), array([2.68497535]), array([2.67642716]), array([2.66791402]), array([2.65943604]), array([2.65099304]), array([2.64258411]), array([2.6342098]), array([2.62586982]), array([2.617564]), array([2.609292]), array([2.60105437]), array([2.59285042]), array([2.58467969]), array([2.57654252]), array([2.56843866]), array([2.56036757]), array([2.55232993]), array([2.5443249]), array([2.53635259]), array([2.52841332]), array([2.52050681]), array([2.51263222]), array([2.50479046]), array([2.49698067]), array([2.48920235]), array([2.48145573]), array([2.47374089]), array([2.46605792]), array([2.45840667]), array([2.45078626]), array([2.44319723]), array([2.43563932]), array([2.42811237]), array([2.42061605]), array([2.41315091]), array([2.40571628]), array([2.39831175]), array([2.39093763]), array([2.38359369]), array([2.37627945]), array([2.36899552]), array([2.36174113]), array([2.3545164]), array([2.34732162]), array([2.34015655]), array([2.33302038]), array([2.32591398]), array([2.31883655]), array([2.31178762]), array([2.30476741]), array([2.29777601]), array([2.29081348]), array([2.28387974]), array([2.27697392]), array([2.27009652]), array([2.26324734]), array([2.25642622]), array([2.24963285]), array([2.24286775]), array([2.2361303]), array([2.22942011]), array([2.22273749]), array([2.21608221]), array([2.20945383]), array([2.20285294]), array([2.1962788]), array([2.18973154]), array([2.18321144]), array([2.17671827]), array([2.17025128]), array([2.16381128]), array([2.15739754]), array([2.1510096]), array([2.14464768]), array([2.13831188]), array([2.13200224]), array([2.1257187]), array([2.11946046]), array([2.11322797]), array([2.10702106]), array([2.10083957]), array([2.09468322]), array([2.08855253]), array([2.08244688]), array([2.07636591]), array([2.07030994]), array([2.06427875]), array([2.05827192]), array([2.05229001]), array([2.04633233]), array([2.04039902]), array([2.03449032]), array([2.02860605]), array([2.02274548]), array([2.01690939]), array([2.0110971]), array([2.00530816]), array([1.9995428]), array([1.99380111]), array([1.98808314]), array([1.98238885]), array([1.97671744]), array([1.97106939]), array([1.96544452]), array([1.95984268]), array([1.95426362]), array([1.94870783]), array([1.94317474]), array([1.93766399]), array([1.93217591]), array([1.92671028]), array([1.92126671]), array([1.91584574]), array([1.9104467]), array([1.90506976]), array([1.89971514]), array([1.89438266]), array([1.88907165]), array([1.88378284]), array([1.8785156]), array([1.87326949]), array([1.86804474]), array([1.86284146]), array([1.85765967]), array([1.85249936]), array([1.84735977]), array([1.84224134]), array([1.83714393]), array([1.83206738]), array([1.82701148]), array([1.82197669]), array([1.81696245]), array([1.81196845]), array([1.80699501]), array([1.8020419]), array([1.79710877]), array([1.79219613]), array([1.78730337]), array([1.78243062]), array([1.77757812]), array([1.77274569]), array([1.7679327]), array([1.76313984]), array([1.75836653]), array([1.75361235]), array([1.74887753]), array([1.74416217]), array([1.73946627]), array([1.73478987]), array([1.73013222]), array([1.72549375]), array([1.72087434]), array([1.71627383]), array([1.71169203]), array([1.70712937]), array([1.70258533]), array([1.69805963]), array([1.69355256]), array([1.68906391]), array([1.68459336]), array([1.68014139]), array([1.67570741]), array([1.67129158]), array([1.66689411]), array([1.66251483]), array([1.65815317]), array([1.65380975]), array([1.64948406]), array([1.64517568]), array([1.64088483]), array([1.63661163]), array([1.63235607]), array([1.6281182]), array([1.62389731]), array([1.61969379]), array([1.61550755]), array([1.61133844]), array([1.60718627]), array([1.60305147]), array([1.59893355]), array([1.59483222]), array([1.59074779]), array([1.58668004]), array([1.5826287]), array([1.57859419]), array([1.57457598]), array([1.57057423]), array([1.56658911]), array([1.5626205]), array([1.55866783]), array([1.55473172]), array([1.55081166]), array([1.54690727]), array([1.54301877]), array([1.53914628]), array([1.53528976]), array([1.5314493]), array([1.52762419]), array([1.52381484]), array([1.52002116]), array([1.51624298]), array([1.51248016]), array([1.5087331]), array([1.50500133]), array([1.50128459]), array([1.49758316]), array([1.49389685]), array([1.4902254]), array([1.48656921]), array([1.48292778]), array([1.47930127]), array([1.47568984]), array([1.47209338]), array([1.46851136]), array([1.46494435]), array([1.4613919]), array([1.45785361]), array([1.45432974]), array([1.45082036]), array([1.44732547]), array([1.44384515]), array([1.44037872]), array([1.43692657]), array([1.43348863]), array([1.43006474]), array([1.42665475]), array([1.42325907]), array([1.41987724]), array([1.41650902]), array([1.41315468]), array([1.40981404]), array([1.40648685]), array([1.40317351]), array([1.39987353]), array([1.39658707]), array([1.39331429]), array([1.39005509]), array([1.38680895]), array([1.38357643]), array([1.38035711]), array([1.3771506]), array([1.37395715]), array([1.37077686]), array([1.36760967]), array([1.36445572]), array([1.36131434]), array([1.35818589]), array([1.35507033]), array([1.3519675]), array([1.34887727]), array([1.34580002]), array([1.34273531]), array([1.33968292]), array([1.33664313]), array([1.33361574]), array([1.33060054]), array([1.32759789]), array([1.32460734]), array([1.32162905]), array([1.31866316]), array([1.31570959]), array([1.31276784]), array([1.30983845]), array([1.30692101]), array([1.30401518]), array([1.30112117]), array([1.29823908]), array([1.29536888]), array([1.29251069]), array([1.28966388]), array([1.28682878]), array([1.28400538]), array([1.28119349]), array([1.27839303]), array([1.27560435]), array([1.27282703]), array([1.27006086]), array([1.26730612]), array([1.26456261]), array([1.26183013]), array([1.25910904]), array([1.25639891]), array([1.25369988]), array([1.25101211]), array([1.2483355]), array([1.24566961]), array([1.24301491]), array([1.24037105]), array([1.23773769]), array([1.23511505]), array([1.23250321]), array([1.22990215]), array([1.22731198]), array([1.22473211]), array([1.22216286]), array([1.21960421]), array([1.217056]), array([1.21451813]), array([1.21199095]), array([1.20947407]), array([1.20696728]), array([1.20447085]), array([1.2019846]), array([1.19950835]), array([1.19704241]), array([1.1945864]), array([1.19214046]), array([1.18970472]), array([1.1872791]), array([1.18486319]), array([1.18245743]), array([1.1800615]), array([1.17767506]), array([1.17529833]), array([1.17293141]), array([1.17057424]), array([1.16822697]), array([1.16588901]), array([1.16356067]), array([1.16124195]), array([1.15893268]), array([1.15663279]), array([1.15434259]), array([1.15206173]), array([1.14978999]), array([1.14752766]), array([1.14527455]), array([1.14303048]), array([1.14079578]), array([1.13857006]), array([1.13635346]), array([1.13414612]), array([1.13194797]), array([1.12975859]), array([1.12757843]), array([1.12540718]), array([1.1232445]), array([1.12109064]), array([1.11894566]), array([1.11680951]), array([1.11468236]), array([1.11256362]), array([1.11045361]), array([1.10835232]), array([1.10625959]), array([1.10417535]), array([1.10209992]), array([1.10003294]), array([1.09797422]), array([1.09592403]), array([1.09388219]), array([1.09184854]), array([1.08982339]), array([1.08780636]), array([1.08579761]), array([1.08379725]), array([1.08180523]), array([1.07982115]), array([1.07784543]), array([1.07587778]), array([1.07391789]), array([1.07196599]), array([1.07002214]), array([1.06808629]), array([1.06615861]), array([1.06423855]), array([1.06232639]), array([1.06042214]), array([1.05852564]), array([1.05663684]), array([1.05475603]), array([1.05288287]), array([1.05101719]), array([1.04915926]), array([1.04730888]), array([1.04546591]), array([1.04363066]), array([1.04180276]), array([1.03998236]), array([1.03816958]), array([1.03636435]), array([1.03456632]), array([1.03277587]), array([1.03099274]), array([1.02921662]), array([1.02744773]), array([1.02568616]), array([1.02393183]), array([1.02218492]), array([1.0204449]), array([1.01871204]), array([1.01698635]), array([1.01526768]), array([1.01355599]), array([1.01185155]), array([1.01015404]), array([1.0084633]), array([1.00677959]), array([1.00510272]), array([1.00343256]), array([1.0017694]), array([1.00011289]), array([0.99846319]), array([0.99682039]), array([0.99518445]), array([0.99355501]), array([0.99193246]), array([0.99031654]), array([0.98870695]), array([0.98710393]), array([0.98550754]), array([0.9839177]), array([0.98233461]), array([0.98075775]), array([0.97918737]), array([0.9776235]), array([0.97606599]), array([0.9745148]), array([0.97297019]), array([0.97143187]), array([0.96989967]), array([0.96837384]), array([0.9668542]), array([0.96534065]), array([0.96383344]), array([0.96233226]), array([0.96083724]), array([0.95934848]), array([0.95786595]), array([0.95638931]), array([0.9549189]), array([0.95345451]), array([0.95199585]), array([0.95054314]), array([0.94909643]), array([0.94765567]), array([0.94622104]), array([0.94479203]), array([0.94336891]), array([0.94195168]), array([0.94054022]), array([0.93913448]), array([0.93773471]), array([0.93634064]), array([0.93495211]), array([0.93356936]), array([0.93219222]), array([0.93082059]), array([0.9294547]), array([0.92809428]), array([0.92673944]), array([0.92539028]), array([0.92404677]), array([0.92270859]), array([0.92137608]), array([0.92004901]), array([0.91872712]), array([0.91741062]), array([0.91609957]), array([0.91479389]), array([0.9134938]), array([0.91219878]), array([0.9109091]), array([0.90962477]), array([0.90834566]), array([0.90707173]), array([0.90580323]), array([0.90453988]), array([0.90328154]), array([0.90202846]), array([0.90078045]), array([0.89953743]), array([0.89829963]), array([0.89706676]), array([0.89583896]), array([0.89461631]), array([0.89339878]), array([0.89218608]), array([0.89097852]), array([0.8897759]), array([0.88857795]), array([0.88738489]), array([0.88619678]), array([0.88501353]), array([0.88383536]), array([0.88266177]), array([0.88149302]), array([0.88032912]), array([0.87916995]), array([0.87801547]), array([0.87686592]), array([0.87572104]), array([0.87458069]), array([0.87344511]), array([0.87231413]), array([0.87118766]), array([0.87006592]), array([0.86894865]), array([0.86783597]), array([0.86672798]), array([0.86562462]), array([0.86452563]), array([0.86343131]), array([0.86234146]), array([0.86125584]), array([0.86017465]), array([0.85909794]), array([0.85802564]), array([0.85695795]), array([0.8558944]), array([0.85483524]), array([0.85378048]), array([0.85273]), array([0.85168378]), array([0.85064203]), array([0.84960451]), array([0.84857108]), array([0.84754199]), array([0.84651705]), array([0.84549621]), array([0.84447965]), array([0.84346714]), array([0.84245879]), array([0.84145469]), array([0.8404548]), array([0.83945887]), array([0.83846716]), array([0.83747951]), array([0.83649568]), array([0.83551587]), array([0.83454012]), array([0.83356836]), array([0.8326008]), array([0.83163698]), array([0.83067713]), array([0.82972128]), array([0.82876929]), array([0.82782117]), array([0.82687711]), array([0.82593688]), array([0.82500035]), array([0.82406776]), array([0.82313893]), array([0.8222138]), array([0.82129257]), array([0.82037499]), array([0.81946119]), array([0.81855125]), array([0.81764512]), array([0.81674257]), array([0.81584386]), array([0.81494883]), array([0.81405724]), array([0.8131693]), array([0.81228505]), array([0.8114044]), array([0.81052758]), array([0.80965413]), array([0.80878428]), array([0.80791806]), array([0.80705534]), array([0.80619612]), array([0.80534059]), array([0.80448853]), array([0.80363982]), array([0.80279467]), array([0.80195294]), array([0.80111456]), array([0.80027971]), array([0.79944816]), array([0.79862004]), array([0.79779542]), array([0.79697427]), array([0.79615635]), array([0.79534191]), array([0.79453081]), array([0.79372282]), array([0.79291814]), array([0.7921168]), array([0.79131872]), array([0.79052413]), array([0.78973258]), array([0.78894429]), array([0.7881593]), array([0.78737748]), array([0.78659882]), array([0.78582352]), array([0.78505136]), array([0.78428222]), array([0.78351633]), array([0.78275352]), array([0.78199375]), array([0.78123718]), array([0.7804836]), array([0.77973313]), array([0.77898583]), array([0.77824168]), array([0.77750046]), array([0.7767624]), array([0.77602736]), array([0.77529512]), array([0.77456589]), array([0.77383969]), array([0.77311644]), array([0.77239637]), array([0.77167904]), array([0.77096467]), array([0.77025328]), array([0.76954477]), array([0.76883912]), array([0.76813652]), array([0.76743677]), array([0.76673975]), array([0.76604568]), array([0.7653544]), array([0.76466586]), array([0.76398024]), array([0.76329732]), array([0.76261721]), array([0.76193999]), array([0.76126562]), array([0.7605939]), array([0.75992505]), array([0.75925894]), array([0.75859535]), array([0.7579345]), array([0.75727639]), array([0.75662095]), array([0.75596841]), array([0.75531834]), array([0.75467095]), array([0.75402628]), array([0.7533842]), array([0.75274472]), array([0.752108]), array([0.75147387]), array([0.7508422]), array([0.75021322]), array([0.74958676]), array([0.74896278]), array([0.74834145]), array([0.74772255]), array([0.74710622]), array([0.7464925]), array([0.74588137]), array([0.74527264]), array([0.7446665]), array([0.74406286]), array([0.74346149]), array([0.7428626]), array([0.7422662]), array([0.74167222]), array([0.74108087]), array([0.74049176]), array([0.73990507]), array([0.73932085]), array([0.73873897]), array([0.73815945]), array([0.73758245]), array([0.73700778]), array([0.73643534]), array([0.73586534]), array([0.73529762]), array([0.73473215]), array([0.73416908]), array([0.73360821]), array([0.73304966]), array([0.73249349]), array([0.73193967]), array([0.73138802]), array([0.73083872]), array([0.73029169]), array([0.7297467]), array([0.72920397]), array([0.72866349]), array([0.72812519]), array([0.72758931]), array([0.72705543]), array([0.72652376]), array([0.72599431]), array([0.725467]), array([0.72494182]), array([0.72441892]), array([0.72389814]), array([0.72337938]), array([0.72286283]), array([0.72234834]), array([0.72183589]), array([0.72132562]), array([0.72081734]), array([0.72031116]), array([0.71980714]), array([0.71930525]), array([0.71880533]), array([0.71830755]), array([0.71781181]), array([0.71731792]), array([0.71682607]), array([0.71633628]), array([0.71584845]), array([0.71536282]), array([0.714879]), array([0.71439718]), array([0.71391738]), array([0.71343951]), array([0.71296358]), array([0.71248972]), array([0.71201777]), array([0.71154764]), array([0.71107954]), array([0.71061329]), array([0.71014889]), array([0.70968646]), array([0.70922584]), array([0.70876712]), array([0.70831036]), array([0.70785554]), array([0.70740249]), array([0.70695139]), array([0.70650214]), array([0.70605455]), array([0.70560883]), array([0.70516496]), array([0.70472287]), array([0.70428278]), array([0.70384433]), array([0.70340769]), array([0.70297288]), array([0.70253982]), array([0.70210851]), array([0.70167909]), array([0.7012514]), array([0.70082535]), array([0.70040114]), array([0.69997861]), array([0.69955775]), array([0.69913869]), array([0.69872125]), array([0.69830554]), array([0.69789161]), array([0.69747944]), array([0.69706888]), array([0.69666008]), array([0.69625296]), array([0.69584733]), array([0.6954434]), array([0.69504115]), array([0.69464051]), array([0.6942417]), array([0.69384436]), array([0.69344865]), array([0.69305462]), array([0.69266216]), array([0.6922713]), array([0.69188214]), array([0.69149456]), array([0.69110846]), array([0.69072403]), array([0.69034112]), array([0.68995972]), array([0.68957995]), array([0.68920165]), array([0.68882492]), array([0.68844981]), array([0.68807629]), array([0.68770422]), array([0.68733376]), array([0.68696481]), array([0.68659722]), array([0.68623116]), array([0.68586663]), array([0.68550355]), array([0.68514215]), array([0.68478206]), array([0.68442346]), array([0.68406638]), array([0.68371072]), array([0.6833565]), array([0.68300384]), array([0.6826526]), array([0.6823027]), array([0.68195432]), array([0.68160732]), array([0.68126168]), array([0.68091752]), array([0.68057469]), array([0.68023328]), array([0.67989334]), array([0.67955485]), array([0.67921767]), array([0.67888195]), array([0.6785476]), array([0.67821447]), array([0.67788274]), array([0.67755239]), array([0.67722334]), array([0.67689584]), array([0.67656951]), array([0.67624454]), array([0.67592094]), array([0.67559863])]\n"
          ],
          "name": "stdout"
        }
      ]
    },
    {
      "cell_type": "markdown",
      "metadata": {
        "id": "v7qN5ze_nCaU"
      },
      "source": [
        "## Linear Regression using Sklearn"
      ]
    },
    {
      "cell_type": "markdown",
      "metadata": {
        "id": "5qzeCvuHnUkd"
      },
      "source": [
        "### Importing dependencies"
      ]
    },
    {
      "cell_type": "code",
      "metadata": {
        "id": "WxTLPi00nPlR"
      },
      "source": [
        "#Importing Libraries\r\n",
        "import matplotlib.pyplot as plt\r\n",
        "import pandas as pd\r\n",
        "from sklearn.model_selection import train_test_split\r\n",
        "from sklearn.linear_model import LinearRegression\r\n",
        "from sklearn.metrics import mean_absolute_error"
      ],
      "execution_count": 18,
      "outputs": []
    },
    {
      "cell_type": "markdown",
      "metadata": {
        "id": "6n4bZLnyoRBF"
      },
      "source": [
        "### Data Preprocessing"
      ]
    },
    {
      "cell_type": "code",
      "metadata": {
        "id": "9RVobIAMoUJP"
      },
      "source": [
        "dataset_sk = pd.read_csv('Salary_Data.csv')\r\n",
        "X_sk = dataset_sk.iloc[:, :-1].values\r\n",
        "y_sk = dataset_sk.iloc[:, 1].values"
      ],
      "execution_count": 19,
      "outputs": []
    },
    {
      "cell_type": "code",
      "metadata": {
        "id": "y2SAKXOUo07O"
      },
      "source": [
        "# Splitting the dataset into the Training set and Test set\r\n",
        "X_train_sk, X_test_sk, y_train_sk, y_test_sk = train_test_split(X_sk, y_sk, test_size = 0.2, random_state = 0)"
      ],
      "execution_count": 20,
      "outputs": []
    },
    {
      "cell_type": "markdown",
      "metadata": {
        "id": "HHBdiwMyo8c0"
      },
      "source": [
        "### Performing the Linear Regression"
      ]
    },
    {
      "cell_type": "code",
      "metadata": {
        "id": "M_ZxKwyzpAuo",
        "colab": {
          "base_uri": "https://localhost:8080/"
        },
        "outputId": "2a6b6c6f-f5a8-47ff-d5b5-98279ef50a8e"
      },
      "source": [
        "# Fitting Simple Linear Regression to the Training set\r\n",
        "regressor_sk = LinearRegression()\r\n",
        "regressor_sk.fit(X_train_sk, y_train_sk)"
      ],
      "execution_count": 21,
      "outputs": [
        {
          "output_type": "execute_result",
          "data": {
            "text/plain": [
              "LinearRegression(copy_X=True, fit_intercept=True, n_jobs=None, normalize=False)"
            ]
          },
          "metadata": {
            "tags": []
          },
          "execution_count": 21
        }
      ]
    },
    {
      "cell_type": "code",
      "metadata": {
        "id": "KPHHkldApF7t"
      },
      "source": [
        "# Predicting the Test set results\r\n",
        "y_pred = regressor_sk.predict(X_test_sk)"
      ],
      "execution_count": 22,
      "outputs": []
    },
    {
      "cell_type": "markdown",
      "metadata": {
        "id": "UBwNhupdpwAt"
      },
      "source": [
        "### Visualizing the Results"
      ]
    },
    {
      "cell_type": "code",
      "metadata": {
        "id": "boFOQFC3pGdF",
        "colab": {
          "base_uri": "https://localhost:8080/",
          "height": 295
        },
        "outputId": "8fdb6619-503f-48ff-c05c-0143fbe46466"
      },
      "source": [
        "# Visualising the Training set results\r\n",
        "plt.scatter(X_train_sk, y_train_sk, color = 'red')\r\n",
        "plt.plot(X_train_sk, regressor_sk.predict(X_train_sk), color = 'blue')\r\n",
        "plt.title('Salary vs Experience (Training set)')\r\n",
        "plt.xlabel('Years of Experience')\r\n",
        "plt.ylabel('Salary')\r\n",
        "plt.show()"
      ],
      "execution_count": 23,
      "outputs": [
        {
          "output_type": "display_data",
          "data": {
            "image/png": "[encoded data removed]",
            "text/plain": [
              "<Figure size 432x288 with 1 Axes>"
            ]
          },
          "metadata": {
            "tags": [],
            "needs_background": "light"
          }
        }
      ]
    },
    {
      "cell_type": "code",
      "metadata": {
        "id": "bT-ftLGbpSZW",
        "colab": {
          "base_uri": "https://localhost:8080/",
          "height": 295
        },
        "outputId": "6b060c03-4060-4716-e867-1398b827aa7d"
      },
      "source": [
        "# Visualising the Test set results\r\n",
        "plt.scatter(X_test_sk, y_test_sk, color = 'red')\r\n",
        "plt.plot(X_train_sk, regressor_sk.predict(X_train_sk), color = 'blue')\r\n",
        "plt.title('Salary vs Experience (Test set)')\r\n",
        "plt.xlabel('Years of Experience')\r\n",
        "plt.ylabel('Salary')\r\n",
        "plt.show()"
      ],
      "execution_count": 24,
      "outputs": [
        {
          "output_type": "display_data",
          "data": {
            "image/png": "[encoded data removed]",
            "text/plain": [
              "<Figure size 432x288 with 1 Axes>"
            ]
          },
          "metadata": {
            "tags": [],
            "needs_background": "light"
          }
        }
      ]
    },
    {
      "cell_type": "markdown",
      "metadata": {
        "id": "6XtnJj4e2vCf"
      },
      "source": [
        "## Comparing the Two Regressors"
      ]
    },
    {
      "cell_type": "code",
      "metadata": {
        "id": "vV6z-Kao0nxZ",
        "colab": {
          "base_uri": "https://localhost:8080/"
        },
        "outputId": "2bff56be-7867-40c0-a440-91587fe1d0a4"
      },
      "source": [
        "# MAE when the Sklearn Regressor is used\r\n",
        "mean_absolute_error(y_test_sk,regressor_sk.predict(X_test_sk))"
      ],
      "execution_count": 25,
      "outputs": [
        {
          "output_type": "execute_result",
          "data": {
            "text/plain": [
              "2446.1723690465055"
            ]
          },
          "metadata": {
            "tags": []
          },
          "execution_count": 25
        }
      ]
    },
    {
      "cell_type": "code",
      "metadata": {
        "id": "b_CvzMqP2fHR",
        "colab": {
          "base_uri": "https://localhost:8080/"
        },
        "outputId": "77102737-c910-4bf1-9531-3c3de9ce6d42"
      },
      "source": [
        "# MAE when the Scratch Implementation Regressor is used\r\n",
        "mean_absolute_error(y_test,test_pred)"
      ],
      "execution_count": 26,
      "outputs": [
        {
          "output_type": "execute_result",
          "data": {
            "text/plain": [
              "1.5932558052100416"
            ]
          },
          "metadata": {
            "tags": []
          },
          "execution_count": 26
        }
      ]
    },
    {
      "cell_type": "markdown",
      "metadata": {
        "id": "-cdYj7q_eNl2"
      },
      "source": [
        "There can be various reasons behind these results like choice of loss function, Optimization Algorithm used, etc. However, the prime goal of this notebook was to demonstrate the implementation of Simple Linear Regression and not to perform better than Sklearn. \r\n",
        "\r\n",
        "Definitely, you can download this notebook and change hyperparameters, Optimization Algorithm, etc. and try to start your Machine Learning Journey.\r\n",
        "\r\n",
        "**Best of Luck!**\r\n"
      ]
    }
  ]
}